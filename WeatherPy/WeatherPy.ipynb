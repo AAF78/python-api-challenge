{
 "cells": [
  {
   "cell_type": "markdown",
   "metadata": {},
   "source": [
    "# WeatherPy\n",
    "----\n",
    "\n",
    "#### Note\n",
    "* Instructions have been included for each segment. You do not have to follow them exactly, but they are included to help you think through the steps."
   ]
  },
  {
   "cell_type": "code",
   "execution_count": 1,
   "metadata": {
    "scrolled": true
   },
   "outputs": [],
   "source": [
    "# Dependencies and Setup\n",
    "import matplotlib.pyplot as plt\n",
    "import pandas as pd\n",
    "import numpy as np\n",
    "import requests\n",
    "import time\n",
    "from scipy.stats import linregress\n",
    "\n",
    "# Import API key\n",
    "from api_keys import weather_api_key\n",
    "\n",
    "# Incorporated citipy to determine city based on latitude and longitude\n",
    "from citipy import citipy\n",
    "\n",
    "# Output File (CSV)\n",
    "output_data_file = \"output_data/cities.csv\"\n",
    "\n",
    "# Range of latitudes and longitudes\n",
    "lat_range = (-90, 90)\n",
    "lng_range = (-180, 180)"
   ]
  },
  {
   "cell_type": "markdown",
   "metadata": {},
   "source": [
    "## Generate Cities List"
   ]
  },
  {
   "cell_type": "code",
   "execution_count": 2,
   "metadata": {},
   "outputs": [
    {
     "data": {
      "text/plain": [
       "602"
      ]
     },
     "execution_count": 2,
     "metadata": {},
     "output_type": "execute_result"
    }
   ],
   "source": [
    "# List for holding lat_lngs and cities\n",
    "lat_lngs = []\n",
    "cities = []\n",
    "\n",
    "# Create a set of random lat and lng combinations\n",
    "lats = np.random.uniform(lat_range[0], lat_range[1], size=1500)\n",
    "lngs = np.random.uniform(lng_range[0], lng_range[1], size=1500)\n",
    "lat_lngs = zip(lats, lngs)\n",
    "\n",
    "# Identify nearest city for each lat, lng combination\n",
    "for lat_lng in lat_lngs:\n",
    "    city = citipy.nearest_city(lat_lng[0], lat_lng[1]).city_name\n",
    "    \n",
    "    # If the city is unique, then add it to a our cities list\n",
    "    if city not in cities:\n",
    "        cities.append(city)\n",
    "\n",
    "# Print the city count to confirm sufficient count\n",
    "len(cities)"
   ]
  },
  {
   "cell_type": "markdown",
   "metadata": {},
   "source": [
    "### Perform API Calls\n",
    "* Perform a weather check on each city using a series of successive API calls.\n",
    "* Include a print log of each city as it'sbeing processed (with the city number and city name).\n"
   ]
  },
  {
   "cell_type": "code",
   "execution_count": 3,
   "metadata": {},
   "outputs": [],
   "source": [
    "url = \"http://api.openweathermap.org/data/2.5/weather?units=Imperial&APPID=\" + weather_api_key\n"
   ]
  },
  {
   "cell_type": "code",
   "execution_count": 22,
   "metadata": {
    "scrolled": false
   },
   "outputs": [
    {
     "name": "stdout",
     "output_type": "stream",
     "text": [
      "Beginning Data Retrieval     \n",
      "-----------------------------\n",
      "http://api.openweathermap.org/data/2.5/weather?units=Imperial&APPID=b9adca80c92df15434d94f136a4156e5&q=tuktoyaktuk\n",
      "http://api.openweathermap.org/data/2.5/weather?units=Imperial&APPID=b9adca80c92df15434d94f136a4156e5&q=korop\n",
      "http://api.openweathermap.org/data/2.5/weather?units=Imperial&APPID=b9adca80c92df15434d94f136a4156e5&q=mataura\n",
      "http://api.openweathermap.org/data/2.5/weather?units=Imperial&APPID=b9adca80c92df15434d94f136a4156e5&q=new+norfolk\n",
      "http://api.openweathermap.org/data/2.5/weather?units=Imperial&APPID=b9adca80c92df15434d94f136a4156e5&q=laiagam\n",
      "City not found. Skipping...\n",
      "http://api.openweathermap.org/data/2.5/weather?units=Imperial&APPID=b9adca80c92df15434d94f136a4156e5&q=acarau\n",
      "http://api.openweathermap.org/data/2.5/weather?units=Imperial&APPID=b9adca80c92df15434d94f136a4156e5&q=thompson\n",
      "http://api.openweathermap.org/data/2.5/weather?units=Imperial&APPID=b9adca80c92df15434d94f136a4156e5&q=hilo\n",
      "http://api.openweathermap.org/data/2.5/weather?units=Imperial&APPID=b9adca80c92df15434d94f136a4156e5&q=ancud\n",
      "http://api.openweathermap.org/data/2.5/weather?units=Imperial&APPID=b9adca80c92df15434d94f136a4156e5&q=rikitea\n",
      "http://api.openweathermap.org/data/2.5/weather?units=Imperial&APPID=b9adca80c92df15434d94f136a4156e5&q=albany\n",
      "http://api.openweathermap.org/data/2.5/weather?units=Imperial&APPID=b9adca80c92df15434d94f136a4156e5&q=hami\n",
      "http://api.openweathermap.org/data/2.5/weather?units=Imperial&APPID=b9adca80c92df15434d94f136a4156e5&q=hobart\n",
      "http://api.openweathermap.org/data/2.5/weather?units=Imperial&APPID=b9adca80c92df15434d94f136a4156e5&q=mys+shmidta\n",
      "City not found. Skipping...\n",
      "http://api.openweathermap.org/data/2.5/weather?units=Imperial&APPID=b9adca80c92df15434d94f136a4156e5&q=ukiah\n",
      "http://api.openweathermap.org/data/2.5/weather?units=Imperial&APPID=b9adca80c92df15434d94f136a4156e5&q=kapaa\n",
      "http://api.openweathermap.org/data/2.5/weather?units=Imperial&APPID=b9adca80c92df15434d94f136a4156e5&q=kimbe\n",
      "http://api.openweathermap.org/data/2.5/weather?units=Imperial&APPID=b9adca80c92df15434d94f136a4156e5&q=traverse+city\n",
      "http://api.openweathermap.org/data/2.5/weather?units=Imperial&APPID=b9adca80c92df15434d94f136a4156e5&q=arraial+do+cabo\n",
      "http://api.openweathermap.org/data/2.5/weather?units=Imperial&APPID=b9adca80c92df15434d94f136a4156e5&q=butaritari\n",
      "http://api.openweathermap.org/data/2.5/weather?units=Imperial&APPID=b9adca80c92df15434d94f136a4156e5&q=tautira\n",
      "http://api.openweathermap.org/data/2.5/weather?units=Imperial&APPID=b9adca80c92df15434d94f136a4156e5&q=gat\n",
      "http://api.openweathermap.org/data/2.5/weather?units=Imperial&APPID=b9adca80c92df15434d94f136a4156e5&q=newcastle\n",
      "http://api.openweathermap.org/data/2.5/weather?units=Imperial&APPID=b9adca80c92df15434d94f136a4156e5&q=busselton\n",
      "http://api.openweathermap.org/data/2.5/weather?units=Imperial&APPID=b9adca80c92df15434d94f136a4156e5&q=punta+arenas\n",
      "http://api.openweathermap.org/data/2.5/weather?units=Imperial&APPID=b9adca80c92df15434d94f136a4156e5&q=saldanha\n",
      "http://api.openweathermap.org/data/2.5/weather?units=Imperial&APPID=b9adca80c92df15434d94f136a4156e5&q=vaitupu\n",
      "City not found. Skipping...\n",
      "http://api.openweathermap.org/data/2.5/weather?units=Imperial&APPID=b9adca80c92df15434d94f136a4156e5&q=hermanus\n",
      "http://api.openweathermap.org/data/2.5/weather?units=Imperial&APPID=b9adca80c92df15434d94f136a4156e5&q=coquimbo\n",
      "http://api.openweathermap.org/data/2.5/weather?units=Imperial&APPID=b9adca80c92df15434d94f136a4156e5&q=benghazi\n",
      "http://api.openweathermap.org/data/2.5/weather?units=Imperial&APPID=b9adca80c92df15434d94f136a4156e5&q=medicine+hat\n",
      "http://api.openweathermap.org/data/2.5/weather?units=Imperial&APPID=b9adca80c92df15434d94f136a4156e5&q=hualmay\n",
      "http://api.openweathermap.org/data/2.5/weather?units=Imperial&APPID=b9adca80c92df15434d94f136a4156e5&q=san+patricio\n",
      "http://api.openweathermap.org/data/2.5/weather?units=Imperial&APPID=b9adca80c92df15434d94f136a4156e5&q=taian\n",
      "http://api.openweathermap.org/data/2.5/weather?units=Imperial&APPID=b9adca80c92df15434d94f136a4156e5&q=castro\n",
      "http://api.openweathermap.org/data/2.5/weather?units=Imperial&APPID=b9adca80c92df15434d94f136a4156e5&q=samusu\n",
      "City not found. Skipping...\n",
      "http://api.openweathermap.org/data/2.5/weather?units=Imperial&APPID=b9adca80c92df15434d94f136a4156e5&q=kaitangata\n",
      "http://api.openweathermap.org/data/2.5/weather?units=Imperial&APPID=b9adca80c92df15434d94f136a4156e5&q=katsuura\n",
      "http://api.openweathermap.org/data/2.5/weather?units=Imperial&APPID=b9adca80c92df15434d94f136a4156e5&q=vokhtoga\n",
      "http://api.openweathermap.org/data/2.5/weather?units=Imperial&APPID=b9adca80c92df15434d94f136a4156e5&q=barrow\n",
      "http://api.openweathermap.org/data/2.5/weather?units=Imperial&APPID=b9adca80c92df15434d94f136a4156e5&q=constitucion\n",
      "http://api.openweathermap.org/data/2.5/weather?units=Imperial&APPID=b9adca80c92df15434d94f136a4156e5&q=jamestown\n",
      "http://api.openweathermap.org/data/2.5/weather?units=Imperial&APPID=b9adca80c92df15434d94f136a4156e5&q=lolua\n",
      "City not found. Skipping...\n",
      "http://api.openweathermap.org/data/2.5/weather?units=Imperial&APPID=b9adca80c92df15434d94f136a4156e5&q=nikolskoye\n",
      "http://api.openweathermap.org/data/2.5/weather?units=Imperial&APPID=b9adca80c92df15434d94f136a4156e5&q=kieta\n",
      "http://api.openweathermap.org/data/2.5/weather?units=Imperial&APPID=b9adca80c92df15434d94f136a4156e5&q=fonseca\n",
      "http://api.openweathermap.org/data/2.5/weather?units=Imperial&APPID=b9adca80c92df15434d94f136a4156e5&q=dikson\n",
      "http://api.openweathermap.org/data/2.5/weather?units=Imperial&APPID=b9adca80c92df15434d94f136a4156e5&q=atuona\n",
      "http://api.openweathermap.org/data/2.5/weather?units=Imperial&APPID=b9adca80c92df15434d94f136a4156e5&q=maniitsoq\n",
      "http://api.openweathermap.org/data/2.5/weather?units=Imperial&APPID=b9adca80c92df15434d94f136a4156e5&q=kurchum\n",
      "http://api.openweathermap.org/data/2.5/weather?units=Imperial&APPID=b9adca80c92df15434d94f136a4156e5&q=clyde+river\n",
      "http://api.openweathermap.org/data/2.5/weather?units=Imperial&APPID=b9adca80c92df15434d94f136a4156e5&q=mar+del+plata\n",
      "http://api.openweathermap.org/data/2.5/weather?units=Imperial&APPID=b9adca80c92df15434d94f136a4156e5&q=cidreira\n",
      "http://api.openweathermap.org/data/2.5/weather?units=Imperial&APPID=b9adca80c92df15434d94f136a4156e5&q=vila+franca+do+campo\n",
      "http://api.openweathermap.org/data/2.5/weather?units=Imperial&APPID=b9adca80c92df15434d94f136a4156e5&q=puerto+ayora\n",
      "http://api.openweathermap.org/data/2.5/weather?units=Imperial&APPID=b9adca80c92df15434d94f136a4156e5&q=taolanaro\n",
      "City not found. Skipping...\n",
      "http://api.openweathermap.org/data/2.5/weather?units=Imperial&APPID=b9adca80c92df15434d94f136a4156e5&q=iqaluit\n",
      "http://api.openweathermap.org/data/2.5/weather?units=Imperial&APPID=b9adca80c92df15434d94f136a4156e5&q=sinegorye\n",
      "http://api.openweathermap.org/data/2.5/weather?units=Imperial&APPID=b9adca80c92df15434d94f136a4156e5&q=suao\n",
      "City not found. Skipping...\n",
      "http://api.openweathermap.org/data/2.5/weather?units=Imperial&APPID=b9adca80c92df15434d94f136a4156e5&q=oxford\n",
      "http://api.openweathermap.org/data/2.5/weather?units=Imperial&APPID=b9adca80c92df15434d94f136a4156e5&q=diego+de+almagro\n",
      "http://api.openweathermap.org/data/2.5/weather?units=Imperial&APPID=b9adca80c92df15434d94f136a4156e5&q=lebu\n",
      "http://api.openweathermap.org/data/2.5/weather?units=Imperial&APPID=b9adca80c92df15434d94f136a4156e5&q=severo-kurilsk\n",
      "http://api.openweathermap.org/data/2.5/weather?units=Imperial&APPID=b9adca80c92df15434d94f136a4156e5&q=port+alfred\n",
      "http://api.openweathermap.org/data/2.5/weather?units=Imperial&APPID=b9adca80c92df15434d94f136a4156e5&q=monywa\n",
      "http://api.openweathermap.org/data/2.5/weather?units=Imperial&APPID=b9adca80c92df15434d94f136a4156e5&q=noumea\n",
      "http://api.openweathermap.org/data/2.5/weather?units=Imperial&APPID=b9adca80c92df15434d94f136a4156e5&q=rio+grande\n",
      "http://api.openweathermap.org/data/2.5/weather?units=Imperial&APPID=b9adca80c92df15434d94f136a4156e5&q=victoria\n",
      "http://api.openweathermap.org/data/2.5/weather?units=Imperial&APPID=b9adca80c92df15434d94f136a4156e5&q=saint-augustin\n",
      "http://api.openweathermap.org/data/2.5/weather?units=Imperial&APPID=b9adca80c92df15434d94f136a4156e5&q=cape+town\n",
      "http://api.openweathermap.org/data/2.5/weather?units=Imperial&APPID=b9adca80c92df15434d94f136a4156e5&q=kodiak\n"
     ]
    },
    {
     "name": "stdout",
     "output_type": "stream",
     "text": [
      "http://api.openweathermap.org/data/2.5/weather?units=Imperial&APPID=b9adca80c92df15434d94f136a4156e5&q=cairns\n",
      "http://api.openweathermap.org/data/2.5/weather?units=Imperial&APPID=b9adca80c92df15434d94f136a4156e5&q=kuche\n",
      "City not found. Skipping...\n",
      "http://api.openweathermap.org/data/2.5/weather?units=Imperial&APPID=b9adca80c92df15434d94f136a4156e5&q=inuvik\n",
      "http://api.openweathermap.org/data/2.5/weather?units=Imperial&APPID=b9adca80c92df15434d94f136a4156e5&q=vaini\n",
      "http://api.openweathermap.org/data/2.5/weather?units=Imperial&APPID=b9adca80c92df15434d94f136a4156e5&q=brownwood\n",
      "http://api.openweathermap.org/data/2.5/weather?units=Imperial&APPID=b9adca80c92df15434d94f136a4156e5&q=kamenskoye\n",
      "City not found. Skipping...\n",
      "http://api.openweathermap.org/data/2.5/weather?units=Imperial&APPID=b9adca80c92df15434d94f136a4156e5&q=marsh+harbour\n",
      "http://api.openweathermap.org/data/2.5/weather?units=Imperial&APPID=b9adca80c92df15434d94f136a4156e5&q=provideniya\n",
      "http://api.openweathermap.org/data/2.5/weather?units=Imperial&APPID=b9adca80c92df15434d94f136a4156e5&q=sentyabrskiy\n",
      "City not found. Skipping...\n",
      "http://api.openweathermap.org/data/2.5/weather?units=Imperial&APPID=b9adca80c92df15434d94f136a4156e5&q=saleaula\n",
      "City not found. Skipping...\n",
      "http://api.openweathermap.org/data/2.5/weather?units=Imperial&APPID=b9adca80c92df15434d94f136a4156e5&q=morondava\n",
      "http://api.openweathermap.org/data/2.5/weather?units=Imperial&APPID=b9adca80c92df15434d94f136a4156e5&q=colonia\n",
      "http://api.openweathermap.org/data/2.5/weather?units=Imperial&APPID=b9adca80c92df15434d94f136a4156e5&q=laramie\n",
      "http://api.openweathermap.org/data/2.5/weather?units=Imperial&APPID=b9adca80c92df15434d94f136a4156e5&q=georgetown\n",
      "http://api.openweathermap.org/data/2.5/weather?units=Imperial&APPID=b9adca80c92df15434d94f136a4156e5&q=kalanguy\n",
      "http://api.openweathermap.org/data/2.5/weather?units=Imperial&APPID=b9adca80c92df15434d94f136a4156e5&q=majene\n",
      "http://api.openweathermap.org/data/2.5/weather?units=Imperial&APPID=b9adca80c92df15434d94f136a4156e5&q=shingu\n",
      "http://api.openweathermap.org/data/2.5/weather?units=Imperial&APPID=b9adca80c92df15434d94f136a4156e5&q=vanavara\n",
      "http://api.openweathermap.org/data/2.5/weather?units=Imperial&APPID=b9adca80c92df15434d94f136a4156e5&q=bambous+virieux\n",
      "http://api.openweathermap.org/data/2.5/weather?units=Imperial&APPID=b9adca80c92df15434d94f136a4156e5&q=ushuaia\n",
      "http://api.openweathermap.org/data/2.5/weather?units=Imperial&APPID=b9adca80c92df15434d94f136a4156e5&q=mandalgovi\n",
      "http://api.openweathermap.org/data/2.5/weather?units=Imperial&APPID=b9adca80c92df15434d94f136a4156e5&q=bredasdorp\n",
      "http://api.openweathermap.org/data/2.5/weather?units=Imperial&APPID=b9adca80c92df15434d94f136a4156e5&q=ilulissat\n",
      "http://api.openweathermap.org/data/2.5/weather?units=Imperial&APPID=b9adca80c92df15434d94f136a4156e5&q=luancheng\n",
      "http://api.openweathermap.org/data/2.5/weather?units=Imperial&APPID=b9adca80c92df15434d94f136a4156e5&q=qaanaaq\n",
      "http://api.openweathermap.org/data/2.5/weather?units=Imperial&APPID=b9adca80c92df15434d94f136a4156e5&q=massakory\n",
      "http://api.openweathermap.org/data/2.5/weather?units=Imperial&APPID=b9adca80c92df15434d94f136a4156e5&q=ahipara\n",
      "http://api.openweathermap.org/data/2.5/weather?units=Imperial&APPID=b9adca80c92df15434d94f136a4156e5&q=los+llanos+de+aridane\n",
      "http://api.openweathermap.org/data/2.5/weather?units=Imperial&APPID=b9adca80c92df15434d94f136a4156e5&q=sept-iles\n",
      "http://api.openweathermap.org/data/2.5/weather?units=Imperial&APPID=b9adca80c92df15434d94f136a4156e5&q=airai\n",
      "http://api.openweathermap.org/data/2.5/weather?units=Imperial&APPID=b9adca80c92df15434d94f136a4156e5&q=glendive\n",
      "http://api.openweathermap.org/data/2.5/weather?units=Imperial&APPID=b9adca80c92df15434d94f136a4156e5&q=taoudenni\n",
      "http://api.openweathermap.org/data/2.5/weather?units=Imperial&APPID=b9adca80c92df15434d94f136a4156e5&q=borgo+san+dalmazzo\n",
      "http://api.openweathermap.org/data/2.5/weather?units=Imperial&APPID=b9adca80c92df15434d94f136a4156e5&q=caravelas\n",
      "http://api.openweathermap.org/data/2.5/weather?units=Imperial&APPID=b9adca80c92df15434d94f136a4156e5&q=teruel\n",
      "http://api.openweathermap.org/data/2.5/weather?units=Imperial&APPID=b9adca80c92df15434d94f136a4156e5&q=pevek\n",
      "http://api.openweathermap.org/data/2.5/weather?units=Imperial&APPID=b9adca80c92df15434d94f136a4156e5&q=yellowknife\n",
      "http://api.openweathermap.org/data/2.5/weather?units=Imperial&APPID=b9adca80c92df15434d94f136a4156e5&q=dingle\n",
      "http://api.openweathermap.org/data/2.5/weather?units=Imperial&APPID=b9adca80c92df15434d94f136a4156e5&q=talnakh\n",
      "http://api.openweathermap.org/data/2.5/weather?units=Imperial&APPID=b9adca80c92df15434d94f136a4156e5&q=hithadhoo\n",
      "http://api.openweathermap.org/data/2.5/weather?units=Imperial&APPID=b9adca80c92df15434d94f136a4156e5&q=villanueva+de+la+serena\n",
      "http://api.openweathermap.org/data/2.5/weather?units=Imperial&APPID=b9adca80c92df15434d94f136a4156e5&q=xuddur\n",
      "http://api.openweathermap.org/data/2.5/weather?units=Imperial&APPID=b9adca80c92df15434d94f136a4156e5&q=belmonte\n",
      "http://api.openweathermap.org/data/2.5/weather?units=Imperial&APPID=b9adca80c92df15434d94f136a4156e5&q=zhigansk\n",
      "http://api.openweathermap.org/data/2.5/weather?units=Imperial&APPID=b9adca80c92df15434d94f136a4156e5&q=badulla\n",
      "http://api.openweathermap.org/data/2.5/weather?units=Imperial&APPID=b9adca80c92df15434d94f136a4156e5&q=tchibanga\n",
      "http://api.openweathermap.org/data/2.5/weather?units=Imperial&APPID=b9adca80c92df15434d94f136a4156e5&q=marsaxlokk\n",
      "http://api.openweathermap.org/data/2.5/weather?units=Imperial&APPID=b9adca80c92df15434d94f136a4156e5&q=barentsburg\n",
      "City not found. Skipping...\n",
      "http://api.openweathermap.org/data/2.5/weather?units=Imperial&APPID=b9adca80c92df15434d94f136a4156e5&q=road+town\n",
      "http://api.openweathermap.org/data/2.5/weather?units=Imperial&APPID=b9adca80c92df15434d94f136a4156e5&q=hasaki\n",
      "http://api.openweathermap.org/data/2.5/weather?units=Imperial&APPID=b9adca80c92df15434d94f136a4156e5&q=kamenica\n",
      "http://api.openweathermap.org/data/2.5/weather?units=Imperial&APPID=b9adca80c92df15434d94f136a4156e5&q=upernavik\n",
      "http://api.openweathermap.org/data/2.5/weather?units=Imperial&APPID=b9adca80c92df15434d94f136a4156e5&q=namatanai\n",
      "http://api.openweathermap.org/data/2.5/weather?units=Imperial&APPID=b9adca80c92df15434d94f136a4156e5&q=illoqqortoormiut\n",
      "City not found. Skipping...\n",
      "http://api.openweathermap.org/data/2.5/weather?units=Imperial&APPID=b9adca80c92df15434d94f136a4156e5&q=bluff\n",
      "http://api.openweathermap.org/data/2.5/weather?units=Imperial&APPID=b9adca80c92df15434d94f136a4156e5&q=sitka\n",
      "http://api.openweathermap.org/data/2.5/weather?units=Imperial&APPID=b9adca80c92df15434d94f136a4156e5&q=touros\n",
      "http://api.openweathermap.org/data/2.5/weather?units=Imperial&APPID=b9adca80c92df15434d94f136a4156e5&q=tsihombe\n",
      "City not found. Skipping...\n",
      "http://api.openweathermap.org/data/2.5/weather?units=Imperial&APPID=b9adca80c92df15434d94f136a4156e5&q=calama\n",
      "http://api.openweathermap.org/data/2.5/weather?units=Imperial&APPID=b9adca80c92df15434d94f136a4156e5&q=yelizovo\n",
      "http://api.openweathermap.org/data/2.5/weather?units=Imperial&APPID=b9adca80c92df15434d94f136a4156e5&q=faanui\n",
      "http://api.openweathermap.org/data/2.5/weather?units=Imperial&APPID=b9adca80c92df15434d94f136a4156e5&q=ponta+do+sol\n",
      "http://api.openweathermap.org/data/2.5/weather?units=Imperial&APPID=b9adca80c92df15434d94f136a4156e5&q=chernyy+yar\n",
      "http://api.openweathermap.org/data/2.5/weather?units=Imperial&APPID=b9adca80c92df15434d94f136a4156e5&q=saint-philippe\n",
      "http://api.openweathermap.org/data/2.5/weather?units=Imperial&APPID=b9adca80c92df15434d94f136a4156e5&q=belushya+guba\n",
      "City not found. Skipping...\n",
      "http://api.openweathermap.org/data/2.5/weather?units=Imperial&APPID=b9adca80c92df15434d94f136a4156e5&q=cabo+san+lucas\n",
      "http://api.openweathermap.org/data/2.5/weather?units=Imperial&APPID=b9adca80c92df15434d94f136a4156e5&q=banda+aceh\n",
      "http://api.openweathermap.org/data/2.5/weather?units=Imperial&APPID=b9adca80c92df15434d94f136a4156e5&q=udachnyy\n",
      "http://api.openweathermap.org/data/2.5/weather?units=Imperial&APPID=b9adca80c92df15434d94f136a4156e5&q=rosetta\n",
      "http://api.openweathermap.org/data/2.5/weather?units=Imperial&APPID=b9adca80c92df15434d94f136a4156e5&q=bandarbeyla\n",
      "http://api.openweathermap.org/data/2.5/weather?units=Imperial&APPID=b9adca80c92df15434d94f136a4156e5&q=isangel\n"
     ]
    },
    {
     "name": "stdout",
     "output_type": "stream",
     "text": [
      "http://api.openweathermap.org/data/2.5/weather?units=Imperial&APPID=b9adca80c92df15434d94f136a4156e5&q=tiksi\n",
      "http://api.openweathermap.org/data/2.5/weather?units=Imperial&APPID=b9adca80c92df15434d94f136a4156e5&q=wanning\n",
      "http://api.openweathermap.org/data/2.5/weather?units=Imperial&APPID=b9adca80c92df15434d94f136a4156e5&q=aras\n",
      "http://api.openweathermap.org/data/2.5/weather?units=Imperial&APPID=b9adca80c92df15434d94f136a4156e5&q=port+elizabeth\n",
      "http://api.openweathermap.org/data/2.5/weather?units=Imperial&APPID=b9adca80c92df15434d94f136a4156e5&q=roanoke+rapids\n",
      "http://api.openweathermap.org/data/2.5/weather?units=Imperial&APPID=b9adca80c92df15434d94f136a4156e5&q=karratha\n",
      "http://api.openweathermap.org/data/2.5/weather?units=Imperial&APPID=b9adca80c92df15434d94f136a4156e5&q=bam\n",
      "http://api.openweathermap.org/data/2.5/weather?units=Imperial&APPID=b9adca80c92df15434d94f136a4156e5&q=thai+binh\n",
      "http://api.openweathermap.org/data/2.5/weather?units=Imperial&APPID=b9adca80c92df15434d94f136a4156e5&q=avarua\n",
      "http://api.openweathermap.org/data/2.5/weather?units=Imperial&APPID=b9adca80c92df15434d94f136a4156e5&q=marystown\n",
      "http://api.openweathermap.org/data/2.5/weather?units=Imperial&APPID=b9adca80c92df15434d94f136a4156e5&q=sao+filipe\n",
      "http://api.openweathermap.org/data/2.5/weather?units=Imperial&APPID=b9adca80c92df15434d94f136a4156e5&q=nisia+floresta\n",
      "http://api.openweathermap.org/data/2.5/weather?units=Imperial&APPID=b9adca80c92df15434d94f136a4156e5&q=east+london\n",
      "http://api.openweathermap.org/data/2.5/weather?units=Imperial&APPID=b9adca80c92df15434d94f136a4156e5&q=chaiya\n",
      "http://api.openweathermap.org/data/2.5/weather?units=Imperial&APPID=b9adca80c92df15434d94f136a4156e5&q=show+low\n",
      "http://api.openweathermap.org/data/2.5/weather?units=Imperial&APPID=b9adca80c92df15434d94f136a4156e5&q=kvarkeno\n",
      "http://api.openweathermap.org/data/2.5/weather?units=Imperial&APPID=b9adca80c92df15434d94f136a4156e5&q=bengkalis\n",
      "City not found. Skipping...\n",
      "http://api.openweathermap.org/data/2.5/weather?units=Imperial&APPID=b9adca80c92df15434d94f136a4156e5&q=port+lincoln\n",
      "http://api.openweathermap.org/data/2.5/weather?units=Imperial&APPID=b9adca80c92df15434d94f136a4156e5&q=kavieng\n",
      "http://api.openweathermap.org/data/2.5/weather?units=Imperial&APPID=b9adca80c92df15434d94f136a4156e5&q=ribeira+grande\n",
      "http://api.openweathermap.org/data/2.5/weather?units=Imperial&APPID=b9adca80c92df15434d94f136a4156e5&q=tir+pol\n",
      "City not found. Skipping...\n",
      "http://api.openweathermap.org/data/2.5/weather?units=Imperial&APPID=b9adca80c92df15434d94f136a4156e5&q=salinopolis\n",
      "http://api.openweathermap.org/data/2.5/weather?units=Imperial&APPID=b9adca80c92df15434d94f136a4156e5&q=markala\n",
      "http://api.openweathermap.org/data/2.5/weather?units=Imperial&APPID=b9adca80c92df15434d94f136a4156e5&q=west+bay\n",
      "http://api.openweathermap.org/data/2.5/weather?units=Imperial&APPID=b9adca80c92df15434d94f136a4156e5&q=ndioum\n",
      "http://api.openweathermap.org/data/2.5/weather?units=Imperial&APPID=b9adca80c92df15434d94f136a4156e5&q=sakata\n",
      "http://api.openweathermap.org/data/2.5/weather?units=Imperial&APPID=b9adca80c92df15434d94f136a4156e5&q=bonavista\n",
      "http://api.openweathermap.org/data/2.5/weather?units=Imperial&APPID=b9adca80c92df15434d94f136a4156e5&q=pottsville\n",
      "http://api.openweathermap.org/data/2.5/weather?units=Imperial&APPID=b9adca80c92df15434d94f136a4156e5&q=porkhov\n",
      "http://api.openweathermap.org/data/2.5/weather?units=Imperial&APPID=b9adca80c92df15434d94f136a4156e5&q=kungurtug\n",
      "http://api.openweathermap.org/data/2.5/weather?units=Imperial&APPID=b9adca80c92df15434d94f136a4156e5&q=aban\n",
      "http://api.openweathermap.org/data/2.5/weather?units=Imperial&APPID=b9adca80c92df15434d94f136a4156e5&q=kruisfontein\n",
      "http://api.openweathermap.org/data/2.5/weather?units=Imperial&APPID=b9adca80c92df15434d94f136a4156e5&q=vuktyl\n",
      "http://api.openweathermap.org/data/2.5/weather?units=Imperial&APPID=b9adca80c92df15434d94f136a4156e5&q=basco\n",
      "http://api.openweathermap.org/data/2.5/weather?units=Imperial&APPID=b9adca80c92df15434d94f136a4156e5&q=san+cristobal\n",
      "http://api.openweathermap.org/data/2.5/weather?units=Imperial&APPID=b9adca80c92df15434d94f136a4156e5&q=dutse\n",
      "http://api.openweathermap.org/data/2.5/weather?units=Imperial&APPID=b9adca80c92df15434d94f136a4156e5&q=bethel\n",
      "http://api.openweathermap.org/data/2.5/weather?units=Imperial&APPID=b9adca80c92df15434d94f136a4156e5&q=tuyen+quang\n",
      "http://api.openweathermap.org/data/2.5/weather?units=Imperial&APPID=b9adca80c92df15434d94f136a4156e5&q=denpasar\n",
      "http://api.openweathermap.org/data/2.5/weather?units=Imperial&APPID=b9adca80c92df15434d94f136a4156e5&q=cherskiy\n",
      "http://api.openweathermap.org/data/2.5/weather?units=Imperial&APPID=b9adca80c92df15434d94f136a4156e5&q=ust-nera\n",
      "http://api.openweathermap.org/data/2.5/weather?units=Imperial&APPID=b9adca80c92df15434d94f136a4156e5&q=batsfjord\n",
      "http://api.openweathermap.org/data/2.5/weather?units=Imperial&APPID=b9adca80c92df15434d94f136a4156e5&q=baghdad\n",
      "http://api.openweathermap.org/data/2.5/weather?units=Imperial&APPID=b9adca80c92df15434d94f136a4156e5&q=serabu\n",
      "http://api.openweathermap.org/data/2.5/weather?units=Imperial&APPID=b9adca80c92df15434d94f136a4156e5&q=mount+gambier\n",
      "http://api.openweathermap.org/data/2.5/weather?units=Imperial&APPID=b9adca80c92df15434d94f136a4156e5&q=marawi\n",
      "http://api.openweathermap.org/data/2.5/weather?units=Imperial&APPID=b9adca80c92df15434d94f136a4156e5&q=malwan\n",
      "City not found. Skipping...\n",
      "http://api.openweathermap.org/data/2.5/weather?units=Imperial&APPID=b9adca80c92df15434d94f136a4156e5&q=tuatapere\n",
      "http://api.openweathermap.org/data/2.5/weather?units=Imperial&APPID=b9adca80c92df15434d94f136a4156e5&q=alcaniz\n",
      "http://api.openweathermap.org/data/2.5/weather?units=Imperial&APPID=b9adca80c92df15434d94f136a4156e5&q=salina+cruz\n",
      "http://api.openweathermap.org/data/2.5/weather?units=Imperial&APPID=b9adca80c92df15434d94f136a4156e5&q=bukachacha\n",
      "http://api.openweathermap.org/data/2.5/weather?units=Imperial&APPID=b9adca80c92df15434d94f136a4156e5&q=bambanglipuro\n",
      "http://api.openweathermap.org/data/2.5/weather?units=Imperial&APPID=b9adca80c92df15434d94f136a4156e5&q=kurara\n",
      "http://api.openweathermap.org/data/2.5/weather?units=Imperial&APPID=b9adca80c92df15434d94f136a4156e5&q=sangar\n",
      "http://api.openweathermap.org/data/2.5/weather?units=Imperial&APPID=b9adca80c92df15434d94f136a4156e5&q=grand-santi\n",
      "http://api.openweathermap.org/data/2.5/weather?units=Imperial&APPID=b9adca80c92df15434d94f136a4156e5&q=killybegs\n",
      "http://api.openweathermap.org/data/2.5/weather?units=Imperial&APPID=b9adca80c92df15434d94f136a4156e5&q=chunskiy\n",
      "http://api.openweathermap.org/data/2.5/weather?units=Imperial&APPID=b9adca80c92df15434d94f136a4156e5&q=grand+river+south+east\n",
      "City not found. Skipping...\n",
      "http://api.openweathermap.org/data/2.5/weather?units=Imperial&APPID=b9adca80c92df15434d94f136a4156e5&q=tabou\n",
      "http://api.openweathermap.org/data/2.5/weather?units=Imperial&APPID=b9adca80c92df15434d94f136a4156e5&q=pangnirtung\n",
      "http://api.openweathermap.org/data/2.5/weather?units=Imperial&APPID=b9adca80c92df15434d94f136a4156e5&q=lorengau\n",
      "http://api.openweathermap.org/data/2.5/weather?units=Imperial&APPID=b9adca80c92df15434d94f136a4156e5&q=takestan\n",
      "http://api.openweathermap.org/data/2.5/weather?units=Imperial&APPID=b9adca80c92df15434d94f136a4156e5&q=chiredzi\n",
      "http://api.openweathermap.org/data/2.5/weather?units=Imperial&APPID=b9adca80c92df15434d94f136a4156e5&q=haines+junction\n",
      "http://api.openweathermap.org/data/2.5/weather?units=Imperial&APPID=b9adca80c92df15434d94f136a4156e5&q=meulaboh\n",
      "http://api.openweathermap.org/data/2.5/weather?units=Imperial&APPID=b9adca80c92df15434d94f136a4156e5&q=hambantota\n",
      "http://api.openweathermap.org/data/2.5/weather?units=Imperial&APPID=b9adca80c92df15434d94f136a4156e5&q=amderma\n",
      "City not found. Skipping...\n",
      "http://api.openweathermap.org/data/2.5/weather?units=Imperial&APPID=b9adca80c92df15434d94f136a4156e5&q=chuy\n",
      "http://api.openweathermap.org/data/2.5/weather?units=Imperial&APPID=b9adca80c92df15434d94f136a4156e5&q=souillac\n",
      "http://api.openweathermap.org/data/2.5/weather?units=Imperial&APPID=b9adca80c92df15434d94f136a4156e5&q=sherbakul\n",
      "http://api.openweathermap.org/data/2.5/weather?units=Imperial&APPID=b9adca80c92df15434d94f136a4156e5&q=ranau\n",
      "http://api.openweathermap.org/data/2.5/weather?units=Imperial&APPID=b9adca80c92df15434d94f136a4156e5&q=botou\n"
     ]
    },
    {
     "name": "stdout",
     "output_type": "stream",
     "text": [
      "http://api.openweathermap.org/data/2.5/weather?units=Imperial&APPID=b9adca80c92df15434d94f136a4156e5&q=mandal\n",
      "http://api.openweathermap.org/data/2.5/weather?units=Imperial&APPID=b9adca80c92df15434d94f136a4156e5&q=kroya\n",
      "http://api.openweathermap.org/data/2.5/weather?units=Imperial&APPID=b9adca80c92df15434d94f136a4156e5&q=puteyets\n",
      "http://api.openweathermap.org/data/2.5/weather?units=Imperial&APPID=b9adca80c92df15434d94f136a4156e5&q=lompoc\n",
      "http://api.openweathermap.org/data/2.5/weather?units=Imperial&APPID=b9adca80c92df15434d94f136a4156e5&q=kefamenanu\n",
      "http://api.openweathermap.org/data/2.5/weather?units=Imperial&APPID=b9adca80c92df15434d94f136a4156e5&q=hamilton\n",
      "http://api.openweathermap.org/data/2.5/weather?units=Imperial&APPID=b9adca80c92df15434d94f136a4156e5&q=leningradskiy\n",
      "http://api.openweathermap.org/data/2.5/weather?units=Imperial&APPID=b9adca80c92df15434d94f136a4156e5&q=ilhabela\n",
      "http://api.openweathermap.org/data/2.5/weather?units=Imperial&APPID=b9adca80c92df15434d94f136a4156e5&q=salalah\n",
      "http://api.openweathermap.org/data/2.5/weather?units=Imperial&APPID=b9adca80c92df15434d94f136a4156e5&q=luderitz\n",
      "http://api.openweathermap.org/data/2.5/weather?units=Imperial&APPID=b9adca80c92df15434d94f136a4156e5&q=louisbourg\n",
      "City not found. Skipping...\n",
      "http://api.openweathermap.org/data/2.5/weather?units=Imperial&APPID=b9adca80c92df15434d94f136a4156e5&q=cambyreta\n",
      "City not found. Skipping...\n",
      "http://api.openweathermap.org/data/2.5/weather?units=Imperial&APPID=b9adca80c92df15434d94f136a4156e5&q=kodinar\n",
      "http://api.openweathermap.org/data/2.5/weather?units=Imperial&APPID=b9adca80c92df15434d94f136a4156e5&q=chesma\n",
      "http://api.openweathermap.org/data/2.5/weather?units=Imperial&APPID=b9adca80c92df15434d94f136a4156e5&q=goderich\n",
      "http://api.openweathermap.org/data/2.5/weather?units=Imperial&APPID=b9adca80c92df15434d94f136a4156e5&q=sao+joao+da+barra\n",
      "http://api.openweathermap.org/data/2.5/weather?units=Imperial&APPID=b9adca80c92df15434d94f136a4156e5&q=nanortalik\n",
      "http://api.openweathermap.org/data/2.5/weather?units=Imperial&APPID=b9adca80c92df15434d94f136a4156e5&q=karaul\n",
      "City not found. Skipping...\n",
      "http://api.openweathermap.org/data/2.5/weather?units=Imperial&APPID=b9adca80c92df15434d94f136a4156e5&q=flinders\n",
      "http://api.openweathermap.org/data/2.5/weather?units=Imperial&APPID=b9adca80c92df15434d94f136a4156e5&q=pacific+grove\n",
      "http://api.openweathermap.org/data/2.5/weather?units=Imperial&APPID=b9adca80c92df15434d94f136a4156e5&q=marcona\n",
      "City not found. Skipping...\n",
      "http://api.openweathermap.org/data/2.5/weather?units=Imperial&APPID=b9adca80c92df15434d94f136a4156e5&q=husavik\n",
      "http://api.openweathermap.org/data/2.5/weather?units=Imperial&APPID=b9adca80c92df15434d94f136a4156e5&q=komsomolskiy\n",
      "http://api.openweathermap.org/data/2.5/weather?units=Imperial&APPID=b9adca80c92df15434d94f136a4156e5&q=vila+velha\n",
      "http://api.openweathermap.org/data/2.5/weather?units=Imperial&APPID=b9adca80c92df15434d94f136a4156e5&q=athabasca\n",
      "http://api.openweathermap.org/data/2.5/weather?units=Imperial&APPID=b9adca80c92df15434d94f136a4156e5&q=cooma\n",
      "http://api.openweathermap.org/data/2.5/weather?units=Imperial&APPID=b9adca80c92df15434d94f136a4156e5&q=moindou\n",
      "http://api.openweathermap.org/data/2.5/weather?units=Imperial&APPID=b9adca80c92df15434d94f136a4156e5&q=syamzha\n",
      "http://api.openweathermap.org/data/2.5/weather?units=Imperial&APPID=b9adca80c92df15434d94f136a4156e5&q=kalmunai\n",
      "http://api.openweathermap.org/data/2.5/weather?units=Imperial&APPID=b9adca80c92df15434d94f136a4156e5&q=senanga\n",
      "http://api.openweathermap.org/data/2.5/weather?units=Imperial&APPID=b9adca80c92df15434d94f136a4156e5&q=torbay\n",
      "http://api.openweathermap.org/data/2.5/weather?units=Imperial&APPID=b9adca80c92df15434d94f136a4156e5&q=pisco\n",
      "http://api.openweathermap.org/data/2.5/weather?units=Imperial&APPID=b9adca80c92df15434d94f136a4156e5&q=soyo\n",
      "http://api.openweathermap.org/data/2.5/weather?units=Imperial&APPID=b9adca80c92df15434d94f136a4156e5&q=taguatinga\n",
      "http://api.openweathermap.org/data/2.5/weather?units=Imperial&APPID=b9adca80c92df15434d94f136a4156e5&q=ixtapa\n",
      "http://api.openweathermap.org/data/2.5/weather?units=Imperial&APPID=b9adca80c92df15434d94f136a4156e5&q=tazovskiy\n",
      "http://api.openweathermap.org/data/2.5/weather?units=Imperial&APPID=b9adca80c92df15434d94f136a4156e5&q=khatanga\n",
      "http://api.openweathermap.org/data/2.5/weather?units=Imperial&APPID=b9adca80c92df15434d94f136a4156e5&q=belmopan\n",
      "http://api.openweathermap.org/data/2.5/weather?units=Imperial&APPID=b9adca80c92df15434d94f136a4156e5&q=port+hardy\n",
      "http://api.openweathermap.org/data/2.5/weather?units=Imperial&APPID=b9adca80c92df15434d94f136a4156e5&q=cap+malheureux\n",
      "http://api.openweathermap.org/data/2.5/weather?units=Imperial&APPID=b9adca80c92df15434d94f136a4156e5&q=geilo\n",
      "http://api.openweathermap.org/data/2.5/weather?units=Imperial&APPID=b9adca80c92df15434d94f136a4156e5&q=tasiilaq\n",
      "http://api.openweathermap.org/data/2.5/weather?units=Imperial&APPID=b9adca80c92df15434d94f136a4156e5&q=olinda\n",
      "http://api.openweathermap.org/data/2.5/weather?units=Imperial&APPID=b9adca80c92df15434d94f136a4156e5&q=rocha\n",
      "http://api.openweathermap.org/data/2.5/weather?units=Imperial&APPID=b9adca80c92df15434d94f136a4156e5&q=yerbogachen\n",
      "http://api.openweathermap.org/data/2.5/weather?units=Imperial&APPID=b9adca80c92df15434d94f136a4156e5&q=anloga\n",
      "http://api.openweathermap.org/data/2.5/weather?units=Imperial&APPID=b9adca80c92df15434d94f136a4156e5&q=muroto\n",
      "http://api.openweathermap.org/data/2.5/weather?units=Imperial&APPID=b9adca80c92df15434d94f136a4156e5&q=chaohu\n",
      "http://api.openweathermap.org/data/2.5/weather?units=Imperial&APPID=b9adca80c92df15434d94f136a4156e5&q=katoro\n",
      "http://api.openweathermap.org/data/2.5/weather?units=Imperial&APPID=b9adca80c92df15434d94f136a4156e5&q=codrington\n",
      "http://api.openweathermap.org/data/2.5/weather?units=Imperial&APPID=b9adca80c92df15434d94f136a4156e5&q=alotau\n",
      "City not found. Skipping...\n",
      "http://api.openweathermap.org/data/2.5/weather?units=Imperial&APPID=b9adca80c92df15434d94f136a4156e5&q=avera\n",
      "http://api.openweathermap.org/data/2.5/weather?units=Imperial&APPID=b9adca80c92df15434d94f136a4156e5&q=flin+flon\n",
      "http://api.openweathermap.org/data/2.5/weather?units=Imperial&APPID=b9adca80c92df15434d94f136a4156e5&q=paita\n",
      "http://api.openweathermap.org/data/2.5/weather?units=Imperial&APPID=b9adca80c92df15434d94f136a4156e5&q=griffith\n",
      "http://api.openweathermap.org/data/2.5/weather?units=Imperial&APPID=b9adca80c92df15434d94f136a4156e5&q=itaituba\n",
      "http://api.openweathermap.org/data/2.5/weather?units=Imperial&APPID=b9adca80c92df15434d94f136a4156e5&q=esperance\n",
      "http://api.openweathermap.org/data/2.5/weather?units=Imperial&APPID=b9adca80c92df15434d94f136a4156e5&q=richards+bay\n",
      "http://api.openweathermap.org/data/2.5/weather?units=Imperial&APPID=b9adca80c92df15434d94f136a4156e5&q=klaksvik\n",
      "http://api.openweathermap.org/data/2.5/weather?units=Imperial&APPID=b9adca80c92df15434d94f136a4156e5&q=aliwal+north\n",
      "http://api.openweathermap.org/data/2.5/weather?units=Imperial&APPID=b9adca80c92df15434d94f136a4156e5&q=zaraza\n",
      "http://api.openweathermap.org/data/2.5/weather?units=Imperial&APPID=b9adca80c92df15434d94f136a4156e5&q=attawapiskat\n",
      "City not found. Skipping...\n",
      "http://api.openweathermap.org/data/2.5/weather?units=Imperial&APPID=b9adca80c92df15434d94f136a4156e5&q=skjervoy\n",
      "http://api.openweathermap.org/data/2.5/weather?units=Imperial&APPID=b9adca80c92df15434d94f136a4156e5&q=tabiauea\n",
      "City not found. Skipping...\n",
      "http://api.openweathermap.org/data/2.5/weather?units=Imperial&APPID=b9adca80c92df15434d94f136a4156e5&q=minuri\n",
      "http://api.openweathermap.org/data/2.5/weather?units=Imperial&APPID=b9adca80c92df15434d94f136a4156e5&q=tiznit\n",
      "http://api.openweathermap.org/data/2.5/weather?units=Imperial&APPID=b9adca80c92df15434d94f136a4156e5&q=alice+springs\n",
      "http://api.openweathermap.org/data/2.5/weather?units=Imperial&APPID=b9adca80c92df15434d94f136a4156e5&q=sinnamary\n",
      "http://api.openweathermap.org/data/2.5/weather?units=Imperial&APPID=b9adca80c92df15434d94f136a4156e5&q=puerto+leguizamo\n",
      "http://api.openweathermap.org/data/2.5/weather?units=Imperial&APPID=b9adca80c92df15434d94f136a4156e5&q=asau\n",
      "http://api.openweathermap.org/data/2.5/weather?units=Imperial&APPID=b9adca80c92df15434d94f136a4156e5&q=te+anau\n",
      "http://api.openweathermap.org/data/2.5/weather?units=Imperial&APPID=b9adca80c92df15434d94f136a4156e5&q=dickinson\n"
     ]
    },
    {
     "name": "stdout",
     "output_type": "stream",
     "text": [
      "http://api.openweathermap.org/data/2.5/weather?units=Imperial&APPID=b9adca80c92df15434d94f136a4156e5&q=hof\n",
      "http://api.openweathermap.org/data/2.5/weather?units=Imperial&APPID=b9adca80c92df15434d94f136a4156e5&q=quetzaltepec\n",
      "City not found. Skipping...\n",
      "http://api.openweathermap.org/data/2.5/weather?units=Imperial&APPID=b9adca80c92df15434d94f136a4156e5&q=bentong\n",
      "http://api.openweathermap.org/data/2.5/weather?units=Imperial&APPID=b9adca80c92df15434d94f136a4156e5&q=northam\n",
      "http://api.openweathermap.org/data/2.5/weather?units=Imperial&APPID=b9adca80c92df15434d94f136a4156e5&q=parit+buntar\n",
      "http://api.openweathermap.org/data/2.5/weather?units=Imperial&APPID=b9adca80c92df15434d94f136a4156e5&q=port+blair\n",
      "http://api.openweathermap.org/data/2.5/weather?units=Imperial&APPID=b9adca80c92df15434d94f136a4156e5&q=chokurdakh\n",
      "http://api.openweathermap.org/data/2.5/weather?units=Imperial&APPID=b9adca80c92df15434d94f136a4156e5&q=wasilla\n",
      "http://api.openweathermap.org/data/2.5/weather?units=Imperial&APPID=b9adca80c92df15434d94f136a4156e5&q=san+juan\n",
      "http://api.openweathermap.org/data/2.5/weather?units=Imperial&APPID=b9adca80c92df15434d94f136a4156e5&q=wangaratta\n",
      "http://api.openweathermap.org/data/2.5/weather?units=Imperial&APPID=b9adca80c92df15434d94f136a4156e5&q=olot\n",
      "http://api.openweathermap.org/data/2.5/weather?units=Imperial&APPID=b9adca80c92df15434d94f136a4156e5&q=saint-joseph\n",
      "http://api.openweathermap.org/data/2.5/weather?units=Imperial&APPID=b9adca80c92df15434d94f136a4156e5&q=porto+santo\n",
      "http://api.openweathermap.org/data/2.5/weather?units=Imperial&APPID=b9adca80c92df15434d94f136a4156e5&q=hinton\n",
      "http://api.openweathermap.org/data/2.5/weather?units=Imperial&APPID=b9adca80c92df15434d94f136a4156e5&q=kandi\n",
      "http://api.openweathermap.org/data/2.5/weather?units=Imperial&APPID=b9adca80c92df15434d94f136a4156e5&q=foki\n",
      "http://api.openweathermap.org/data/2.5/weather?units=Imperial&APPID=b9adca80c92df15434d94f136a4156e5&q=yulara\n",
      "http://api.openweathermap.org/data/2.5/weather?units=Imperial&APPID=b9adca80c92df15434d94f136a4156e5&q=gasa\n",
      "http://api.openweathermap.org/data/2.5/weather?units=Imperial&APPID=b9adca80c92df15434d94f136a4156e5&q=lesosibirsk\n",
      "http://api.openweathermap.org/data/2.5/weather?units=Imperial&APPID=b9adca80c92df15434d94f136a4156e5&q=kiomboi\n",
      "http://api.openweathermap.org/data/2.5/weather?units=Imperial&APPID=b9adca80c92df15434d94f136a4156e5&q=saskylakh\n",
      "http://api.openweathermap.org/data/2.5/weather?units=Imperial&APPID=b9adca80c92df15434d94f136a4156e5&q=nome\n",
      "http://api.openweathermap.org/data/2.5/weather?units=Imperial&APPID=b9adca80c92df15434d94f136a4156e5&q=ostrovnoy\n",
      "http://api.openweathermap.org/data/2.5/weather?units=Imperial&APPID=b9adca80c92df15434d94f136a4156e5&q=skalistyy\n",
      "City not found. Skipping...\n",
      "http://api.openweathermap.org/data/2.5/weather?units=Imperial&APPID=b9adca80c92df15434d94f136a4156e5&q=coruripe\n",
      "http://api.openweathermap.org/data/2.5/weather?units=Imperial&APPID=b9adca80c92df15434d94f136a4156e5&q=thano+bula+khan\n",
      "City not found. Skipping...\n",
      "http://api.openweathermap.org/data/2.5/weather?units=Imperial&APPID=b9adca80c92df15434d94f136a4156e5&q=port+hawkesbury\n",
      "http://api.openweathermap.org/data/2.5/weather?units=Imperial&APPID=b9adca80c92df15434d94f136a4156e5&q=volosovo\n",
      "http://api.openweathermap.org/data/2.5/weather?units=Imperial&APPID=b9adca80c92df15434d94f136a4156e5&q=ksenyevka\n",
      "City not found. Skipping...\n",
      "http://api.openweathermap.org/data/2.5/weather?units=Imperial&APPID=b9adca80c92df15434d94f136a4156e5&q=keflavik\n",
      "http://api.openweathermap.org/data/2.5/weather?units=Imperial&APPID=b9adca80c92df15434d94f136a4156e5&q=fukue\n",
      "http://api.openweathermap.org/data/2.5/weather?units=Imperial&APPID=b9adca80c92df15434d94f136a4156e5&q=charters+towers\n",
      "http://api.openweathermap.org/data/2.5/weather?units=Imperial&APPID=b9adca80c92df15434d94f136a4156e5&q=aykhal\n",
      "http://api.openweathermap.org/data/2.5/weather?units=Imperial&APPID=b9adca80c92df15434d94f136a4156e5&q=malartic\n",
      "http://api.openweathermap.org/data/2.5/weather?units=Imperial&APPID=b9adca80c92df15434d94f136a4156e5&q=tumannyy\n",
      "City not found. Skipping...\n",
      "http://api.openweathermap.org/data/2.5/weather?units=Imperial&APPID=b9adca80c92df15434d94f136a4156e5&q=nantucket\n",
      "http://api.openweathermap.org/data/2.5/weather?units=Imperial&APPID=b9adca80c92df15434d94f136a4156e5&q=kosh-agach\n",
      "http://api.openweathermap.org/data/2.5/weather?units=Imperial&APPID=b9adca80c92df15434d94f136a4156e5&q=qaqortoq\n",
      "http://api.openweathermap.org/data/2.5/weather?units=Imperial&APPID=b9adca80c92df15434d94f136a4156e5&q=moyale\n",
      "http://api.openweathermap.org/data/2.5/weather?units=Imperial&APPID=b9adca80c92df15434d94f136a4156e5&q=bolungarvik\n",
      "City not found. Skipping...\n",
      "http://api.openweathermap.org/data/2.5/weather?units=Imperial&APPID=b9adca80c92df15434d94f136a4156e5&q=abha\n",
      "http://api.openweathermap.org/data/2.5/weather?units=Imperial&APPID=b9adca80c92df15434d94f136a4156e5&q=kahului\n",
      "http://api.openweathermap.org/data/2.5/weather?units=Imperial&APPID=b9adca80c92df15434d94f136a4156e5&q=nemuro\n",
      "http://api.openweathermap.org/data/2.5/weather?units=Imperial&APPID=b9adca80c92df15434d94f136a4156e5&q=salym\n",
      "http://api.openweathermap.org/data/2.5/weather?units=Imperial&APPID=b9adca80c92df15434d94f136a4156e5&q=lagunas\n",
      "http://api.openweathermap.org/data/2.5/weather?units=Imperial&APPID=b9adca80c92df15434d94f136a4156e5&q=portland\n",
      "http://api.openweathermap.org/data/2.5/weather?units=Imperial&APPID=b9adca80c92df15434d94f136a4156e5&q=aguimes\n",
      "http://api.openweathermap.org/data/2.5/weather?units=Imperial&APPID=b9adca80c92df15434d94f136a4156e5&q=pailon\n",
      "http://api.openweathermap.org/data/2.5/weather?units=Imperial&APPID=b9adca80c92df15434d94f136a4156e5&q=norman+wells\n",
      "http://api.openweathermap.org/data/2.5/weather?units=Imperial&APPID=b9adca80c92df15434d94f136a4156e5&q=havelock\n",
      "http://api.openweathermap.org/data/2.5/weather?units=Imperial&APPID=b9adca80c92df15434d94f136a4156e5&q=daru\n",
      "http://api.openweathermap.org/data/2.5/weather?units=Imperial&APPID=b9adca80c92df15434d94f136a4156e5&q=zabol\n",
      "http://api.openweathermap.org/data/2.5/weather?units=Imperial&APPID=b9adca80c92df15434d94f136a4156e5&q=shaunavon\n",
      "http://api.openweathermap.org/data/2.5/weather?units=Imperial&APPID=b9adca80c92df15434d94f136a4156e5&q=dunedin\n",
      "http://api.openweathermap.org/data/2.5/weather?units=Imperial&APPID=b9adca80c92df15434d94f136a4156e5&q=susice\n",
      "http://api.openweathermap.org/data/2.5/weather?units=Imperial&APPID=b9adca80c92df15434d94f136a4156e5&q=ngukurr\n",
      "City not found. Skipping...\n",
      "http://api.openweathermap.org/data/2.5/weather?units=Imperial&APPID=b9adca80c92df15434d94f136a4156e5&q=camargo\n",
      "http://api.openweathermap.org/data/2.5/weather?units=Imperial&APPID=b9adca80c92df15434d94f136a4156e5&q=nigde\n",
      "http://api.openweathermap.org/data/2.5/weather?units=Imperial&APPID=b9adca80c92df15434d94f136a4156e5&q=kamenka\n",
      "http://api.openweathermap.org/data/2.5/weather?units=Imperial&APPID=b9adca80c92df15434d94f136a4156e5&q=lasa\n",
      "http://api.openweathermap.org/data/2.5/weather?units=Imperial&APPID=b9adca80c92df15434d94f136a4156e5&q=sudova+vyshnya\n",
      "http://api.openweathermap.org/data/2.5/weather?units=Imperial&APPID=b9adca80c92df15434d94f136a4156e5&q=kathmandu\n",
      "http://api.openweathermap.org/data/2.5/weather?units=Imperial&APPID=b9adca80c92df15434d94f136a4156e5&q=stornoway\n",
      "http://api.openweathermap.org/data/2.5/weather?units=Imperial&APPID=b9adca80c92df15434d94f136a4156e5&q=pontes+e+lacerda\n",
      "http://api.openweathermap.org/data/2.5/weather?units=Imperial&APPID=b9adca80c92df15434d94f136a4156e5&q=puerto+el+triunfo\n",
      "http://api.openweathermap.org/data/2.5/weather?units=Imperial&APPID=b9adca80c92df15434d94f136a4156e5&q=kununurra\n",
      "http://api.openweathermap.org/data/2.5/weather?units=Imperial&APPID=b9adca80c92df15434d94f136a4156e5&q=aklavik\n",
      "http://api.openweathermap.org/data/2.5/weather?units=Imperial&APPID=b9adca80c92df15434d94f136a4156e5&q=vodnyy\n",
      "http://api.openweathermap.org/data/2.5/weather?units=Imperial&APPID=b9adca80c92df15434d94f136a4156e5&q=sassandra\n",
      "http://api.openweathermap.org/data/2.5/weather?units=Imperial&APPID=b9adca80c92df15434d94f136a4156e5&q=santa+isabel+do+rio+negro\n",
      "http://api.openweathermap.org/data/2.5/weather?units=Imperial&APPID=b9adca80c92df15434d94f136a4156e5&q=labuhan\n",
      "http://api.openweathermap.org/data/2.5/weather?units=Imperial&APPID=b9adca80c92df15434d94f136a4156e5&q=libertador+general+san+martin\n"
     ]
    },
    {
     "name": "stdout",
     "output_type": "stream",
     "text": [
      "http://api.openweathermap.org/data/2.5/weather?units=Imperial&APPID=b9adca80c92df15434d94f136a4156e5&q=la+reforma\n",
      "http://api.openweathermap.org/data/2.5/weather?units=Imperial&APPID=b9adca80c92df15434d94f136a4156e5&q=sarakhs\n",
      "http://api.openweathermap.org/data/2.5/weather?units=Imperial&APPID=b9adca80c92df15434d94f136a4156e5&q=mocambique\n",
      "City not found. Skipping...\n",
      "http://api.openweathermap.org/data/2.5/weather?units=Imperial&APPID=b9adca80c92df15434d94f136a4156e5&q=port+hedland\n",
      "http://api.openweathermap.org/data/2.5/weather?units=Imperial&APPID=b9adca80c92df15434d94f136a4156e5&q=ati\n",
      "http://api.openweathermap.org/data/2.5/weather?units=Imperial&APPID=b9adca80c92df15434d94f136a4156e5&q=padang\n",
      "http://api.openweathermap.org/data/2.5/weather?units=Imperial&APPID=b9adca80c92df15434d94f136a4156e5&q=narsaq\n",
      "http://api.openweathermap.org/data/2.5/weather?units=Imperial&APPID=b9adca80c92df15434d94f136a4156e5&q=surok\n",
      "http://api.openweathermap.org/data/2.5/weather?units=Imperial&APPID=b9adca80c92df15434d94f136a4156e5&q=concordia\n",
      "http://api.openweathermap.org/data/2.5/weather?units=Imperial&APPID=b9adca80c92df15434d94f136a4156e5&q=rapid+city\n",
      "http://api.openweathermap.org/data/2.5/weather?units=Imperial&APPID=b9adca80c92df15434d94f136a4156e5&q=axim\n",
      "http://api.openweathermap.org/data/2.5/weather?units=Imperial&APPID=b9adca80c92df15434d94f136a4156e5&q=akranes\n",
      "http://api.openweathermap.org/data/2.5/weather?units=Imperial&APPID=b9adca80c92df15434d94f136a4156e5&q=cam+pha\n",
      "City not found. Skipping...\n",
      "http://api.openweathermap.org/data/2.5/weather?units=Imperial&APPID=b9adca80c92df15434d94f136a4156e5&q=bati\n",
      "http://api.openweathermap.org/data/2.5/weather?units=Imperial&APPID=b9adca80c92df15434d94f136a4156e5&q=asosa\n",
      "http://api.openweathermap.org/data/2.5/weather?units=Imperial&APPID=b9adca80c92df15434d94f136a4156e5&q=carnarvon\n",
      "http://api.openweathermap.org/data/2.5/weather?units=Imperial&APPID=b9adca80c92df15434d94f136a4156e5&q=lata\n",
      "http://api.openweathermap.org/data/2.5/weather?units=Imperial&APPID=b9adca80c92df15434d94f136a4156e5&q=yakeshi\n",
      "http://api.openweathermap.org/data/2.5/weather?units=Imperial&APPID=b9adca80c92df15434d94f136a4156e5&q=staryy+biser\n",
      "City not found. Skipping...\n",
      "http://api.openweathermap.org/data/2.5/weather?units=Imperial&APPID=b9adca80c92df15434d94f136a4156e5&q=saiha\n",
      "http://api.openweathermap.org/data/2.5/weather?units=Imperial&APPID=b9adca80c92df15434d94f136a4156e5&q=faya\n",
      "http://api.openweathermap.org/data/2.5/weather?units=Imperial&APPID=b9adca80c92df15434d94f136a4156e5&q=marsa+matruh\n",
      "http://api.openweathermap.org/data/2.5/weather?units=Imperial&APPID=b9adca80c92df15434d94f136a4156e5&q=kozulka\n",
      "http://api.openweathermap.org/data/2.5/weather?units=Imperial&APPID=b9adca80c92df15434d94f136a4156e5&q=kulhudhuffushi\n",
      "http://api.openweathermap.org/data/2.5/weather?units=Imperial&APPID=b9adca80c92df15434d94f136a4156e5&q=tecpan\n",
      "http://api.openweathermap.org/data/2.5/weather?units=Imperial&APPID=b9adca80c92df15434d94f136a4156e5&q=langholm\n",
      "http://api.openweathermap.org/data/2.5/weather?units=Imperial&APPID=b9adca80c92df15434d94f136a4156e5&q=killarney\n",
      "http://api.openweathermap.org/data/2.5/weather?units=Imperial&APPID=b9adca80c92df15434d94f136a4156e5&q=guarapari\n",
      "http://api.openweathermap.org/data/2.5/weather?units=Imperial&APPID=b9adca80c92df15434d94f136a4156e5&q=honiara\n",
      "http://api.openweathermap.org/data/2.5/weather?units=Imperial&APPID=b9adca80c92df15434d94f136a4156e5&q=mogadishu\n",
      "http://api.openweathermap.org/data/2.5/weather?units=Imperial&APPID=b9adca80c92df15434d94f136a4156e5&q=tarija\n",
      "http://api.openweathermap.org/data/2.5/weather?units=Imperial&APPID=b9adca80c92df15434d94f136a4156e5&q=jiangyou\n",
      "http://api.openweathermap.org/data/2.5/weather?units=Imperial&APPID=b9adca80c92df15434d94f136a4156e5&q=mahebourg\n",
      "http://api.openweathermap.org/data/2.5/weather?units=Imperial&APPID=b9adca80c92df15434d94f136a4156e5&q=kota+bahru\n",
      "http://api.openweathermap.org/data/2.5/weather?units=Imperial&APPID=b9adca80c92df15434d94f136a4156e5&q=bereda\n",
      "http://api.openweathermap.org/data/2.5/weather?units=Imperial&APPID=b9adca80c92df15434d94f136a4156e5&q=velingara\n",
      "http://api.openweathermap.org/data/2.5/weather?units=Imperial&APPID=b9adca80c92df15434d94f136a4156e5&q=warqla\n",
      "City not found. Skipping...\n",
      "http://api.openweathermap.org/data/2.5/weather?units=Imperial&APPID=b9adca80c92df15434d94f136a4156e5&q=qasigiannguit\n",
      "http://api.openweathermap.org/data/2.5/weather?units=Imperial&APPID=b9adca80c92df15434d94f136a4156e5&q=tiarei\n",
      "http://api.openweathermap.org/data/2.5/weather?units=Imperial&APPID=b9adca80c92df15434d94f136a4156e5&q=armidale\n",
      "http://api.openweathermap.org/data/2.5/weather?units=Imperial&APPID=b9adca80c92df15434d94f136a4156e5&q=yuanping\n",
      "http://api.openweathermap.org/data/2.5/weather?units=Imperial&APPID=b9adca80c92df15434d94f136a4156e5&q=palabuhanratu\n",
      "City not found. Skipping...\n",
      "http://api.openweathermap.org/data/2.5/weather?units=Imperial&APPID=b9adca80c92df15434d94f136a4156e5&q=cayenne\n",
      "http://api.openweathermap.org/data/2.5/weather?units=Imperial&APPID=b9adca80c92df15434d94f136a4156e5&q=sapa\n",
      "http://api.openweathermap.org/data/2.5/weather?units=Imperial&APPID=b9adca80c92df15434d94f136a4156e5&q=mayo\n",
      "http://api.openweathermap.org/data/2.5/weather?units=Imperial&APPID=b9adca80c92df15434d94f136a4156e5&q=puerto+pinasco\n",
      "City not found. Skipping...\n",
      "http://api.openweathermap.org/data/2.5/weather?units=Imperial&APPID=b9adca80c92df15434d94f136a4156e5&q=melfort\n",
      "http://api.openweathermap.org/data/2.5/weather?units=Imperial&APPID=b9adca80c92df15434d94f136a4156e5&q=camacha\n",
      "http://api.openweathermap.org/data/2.5/weather?units=Imperial&APPID=b9adca80c92df15434d94f136a4156e5&q=penzance\n",
      "http://api.openweathermap.org/data/2.5/weather?units=Imperial&APPID=b9adca80c92df15434d94f136a4156e5&q=bargal\n",
      "City not found. Skipping...\n",
      "http://api.openweathermap.org/data/2.5/weather?units=Imperial&APPID=b9adca80c92df15434d94f136a4156e5&q=vao\n",
      "http://api.openweathermap.org/data/2.5/weather?units=Imperial&APPID=b9adca80c92df15434d94f136a4156e5&q=college\n",
      "http://api.openweathermap.org/data/2.5/weather?units=Imperial&APPID=b9adca80c92df15434d94f136a4156e5&q=kudahuvadhoo\n",
      "http://api.openweathermap.org/data/2.5/weather?units=Imperial&APPID=b9adca80c92df15434d94f136a4156e5&q=srednekolymsk\n",
      "http://api.openweathermap.org/data/2.5/weather?units=Imperial&APPID=b9adca80c92df15434d94f136a4156e5&q=yacuiba\n",
      "http://api.openweathermap.org/data/2.5/weather?units=Imperial&APPID=b9adca80c92df15434d94f136a4156e5&q=broome\n",
      "http://api.openweathermap.org/data/2.5/weather?units=Imperial&APPID=b9adca80c92df15434d94f136a4156e5&q=leshukonskoye\n",
      "http://api.openweathermap.org/data/2.5/weather?units=Imperial&APPID=b9adca80c92df15434d94f136a4156e5&q=leh\n",
      "http://api.openweathermap.org/data/2.5/weather?units=Imperial&APPID=b9adca80c92df15434d94f136a4156e5&q=pontianak\n",
      "http://api.openweathermap.org/data/2.5/weather?units=Imperial&APPID=b9adca80c92df15434d94f136a4156e5&q=batemans+bay\n",
      "http://api.openweathermap.org/data/2.5/weather?units=Imperial&APPID=b9adca80c92df15434d94f136a4156e5&q=bathsheba\n",
      "http://api.openweathermap.org/data/2.5/weather?units=Imperial&APPID=b9adca80c92df15434d94f136a4156e5&q=lengshuitan\n",
      "http://api.openweathermap.org/data/2.5/weather?units=Imperial&APPID=b9adca80c92df15434d94f136a4156e5&q=wahpeton\n",
      "http://api.openweathermap.org/data/2.5/weather?units=Imperial&APPID=b9adca80c92df15434d94f136a4156e5&q=hay+river\n",
      "http://api.openweathermap.org/data/2.5/weather?units=Imperial&APPID=b9adca80c92df15434d94f136a4156e5&q=porto+novo\n",
      "http://api.openweathermap.org/data/2.5/weather?units=Imperial&APPID=b9adca80c92df15434d94f136a4156e5&q=ca+mau\n",
      "http://api.openweathermap.org/data/2.5/weather?units=Imperial&APPID=b9adca80c92df15434d94f136a4156e5&q=palu\n",
      "http://api.openweathermap.org/data/2.5/weather?units=Imperial&APPID=b9adca80c92df15434d94f136a4156e5&q=artigas\n",
      "http://api.openweathermap.org/data/2.5/weather?units=Imperial&APPID=b9adca80c92df15434d94f136a4156e5&q=saint+anthony\n",
      "http://api.openweathermap.org/data/2.5/weather?units=Imperial&APPID=b9adca80c92df15434d94f136a4156e5&q=umm+lajj\n",
      "http://api.openweathermap.org/data/2.5/weather?units=Imperial&APPID=b9adca80c92df15434d94f136a4156e5&q=taut\n",
      "http://api.openweathermap.org/data/2.5/weather?units=Imperial&APPID=b9adca80c92df15434d94f136a4156e5&q=saint-georges\n"
     ]
    },
    {
     "name": "stdout",
     "output_type": "stream",
     "text": [
      "http://api.openweathermap.org/data/2.5/weather?units=Imperial&APPID=b9adca80c92df15434d94f136a4156e5&q=pochutla\n",
      "http://api.openweathermap.org/data/2.5/weather?units=Imperial&APPID=b9adca80c92df15434d94f136a4156e5&q=vestmanna\n",
      "http://api.openweathermap.org/data/2.5/weather?units=Imperial&APPID=b9adca80c92df15434d94f136a4156e5&q=pedernales\n",
      "http://api.openweathermap.org/data/2.5/weather?units=Imperial&APPID=b9adca80c92df15434d94f136a4156e5&q=coihaique\n",
      "http://api.openweathermap.org/data/2.5/weather?units=Imperial&APPID=b9adca80c92df15434d94f136a4156e5&q=sao+domingos\n",
      "http://api.openweathermap.org/data/2.5/weather?units=Imperial&APPID=b9adca80c92df15434d94f136a4156e5&q=buala\n",
      "http://api.openweathermap.org/data/2.5/weather?units=Imperial&APPID=b9adca80c92df15434d94f136a4156e5&q=meyungs\n",
      "City not found. Skipping...\n",
      "http://api.openweathermap.org/data/2.5/weather?units=Imperial&APPID=b9adca80c92df15434d94f136a4156e5&q=grand+gaube\n",
      "http://api.openweathermap.org/data/2.5/weather?units=Imperial&APPID=b9adca80c92df15434d94f136a4156e5&q=ngunguru\n",
      "http://api.openweathermap.org/data/2.5/weather?units=Imperial&APPID=b9adca80c92df15434d94f136a4156e5&q=khromtau\n",
      "http://api.openweathermap.org/data/2.5/weather?units=Imperial&APPID=b9adca80c92df15434d94f136a4156e5&q=gurskoye\n",
      "City not found. Skipping...\n",
      "http://api.openweathermap.org/data/2.5/weather?units=Imperial&APPID=b9adca80c92df15434d94f136a4156e5&q=rawson\n",
      "http://api.openweathermap.org/data/2.5/weather?units=Imperial&APPID=b9adca80c92df15434d94f136a4156e5&q=ordynskoye\n",
      "http://api.openweathermap.org/data/2.5/weather?units=Imperial&APPID=b9adca80c92df15434d94f136a4156e5&q=kijang\n",
      "http://api.openweathermap.org/data/2.5/weather?units=Imperial&APPID=b9adca80c92df15434d94f136a4156e5&q=bage\n",
      "http://api.openweathermap.org/data/2.5/weather?units=Imperial&APPID=b9adca80c92df15434d94f136a4156e5&q=nochistlan\n",
      "http://api.openweathermap.org/data/2.5/weather?units=Imperial&APPID=b9adca80c92df15434d94f136a4156e5&q=irbit\n",
      "http://api.openweathermap.org/data/2.5/weather?units=Imperial&APPID=b9adca80c92df15434d94f136a4156e5&q=lagoa\n",
      "http://api.openweathermap.org/data/2.5/weather?units=Imperial&APPID=b9adca80c92df15434d94f136a4156e5&q=sabang\n",
      "http://api.openweathermap.org/data/2.5/weather?units=Imperial&APPID=b9adca80c92df15434d94f136a4156e5&q=raga\n",
      "http://api.openweathermap.org/data/2.5/weather?units=Imperial&APPID=b9adca80c92df15434d94f136a4156e5&q=yashan\n",
      "http://api.openweathermap.org/data/2.5/weather?units=Imperial&APPID=b9adca80c92df15434d94f136a4156e5&q=grande+prairie\n",
      "http://api.openweathermap.org/data/2.5/weather?units=Imperial&APPID=b9adca80c92df15434d94f136a4156e5&q=polunochnoye\n",
      "http://api.openweathermap.org/data/2.5/weather?units=Imperial&APPID=b9adca80c92df15434d94f136a4156e5&q=freeport\n",
      "http://api.openweathermap.org/data/2.5/weather?units=Imperial&APPID=b9adca80c92df15434d94f136a4156e5&q=aksu\n",
      "http://api.openweathermap.org/data/2.5/weather?units=Imperial&APPID=b9adca80c92df15434d94f136a4156e5&q=nizhneyansk\n",
      "City not found. Skipping...\n",
      "http://api.openweathermap.org/data/2.5/weather?units=Imperial&APPID=b9adca80c92df15434d94f136a4156e5&q=karauzyak\n",
      "City not found. Skipping...\n",
      "http://api.openweathermap.org/data/2.5/weather?units=Imperial&APPID=b9adca80c92df15434d94f136a4156e5&q=aasiaat\n",
      "http://api.openweathermap.org/data/2.5/weather?units=Imperial&APPID=b9adca80c92df15434d94f136a4156e5&q=pucallpa\n",
      "http://api.openweathermap.org/data/2.5/weather?units=Imperial&APPID=b9adca80c92df15434d94f136a4156e5&q=neuquen\n",
      "http://api.openweathermap.org/data/2.5/weather?units=Imperial&APPID=b9adca80c92df15434d94f136a4156e5&q=yushu\n",
      "http://api.openweathermap.org/data/2.5/weather?units=Imperial&APPID=b9adca80c92df15434d94f136a4156e5&q=kusti\n",
      "http://api.openweathermap.org/data/2.5/weather?units=Imperial&APPID=b9adca80c92df15434d94f136a4156e5&q=iralaya\n",
      "http://api.openweathermap.org/data/2.5/weather?units=Imperial&APPID=b9adca80c92df15434d94f136a4156e5&q=inhambane\n",
      "http://api.openweathermap.org/data/2.5/weather?units=Imperial&APPID=b9adca80c92df15434d94f136a4156e5&q=ardakan\n",
      "http://api.openweathermap.org/data/2.5/weather?units=Imperial&APPID=b9adca80c92df15434d94f136a4156e5&q=namibe\n",
      "http://api.openweathermap.org/data/2.5/weather?units=Imperial&APPID=b9adca80c92df15434d94f136a4156e5&q=langangen\n",
      "City not found. Skipping...\n",
      "http://api.openweathermap.org/data/2.5/weather?units=Imperial&APPID=b9adca80c92df15434d94f136a4156e5&q=baruun-urt\n",
      "http://api.openweathermap.org/data/2.5/weather?units=Imperial&APPID=b9adca80c92df15434d94f136a4156e5&q=guerrero+negro\n",
      "http://api.openweathermap.org/data/2.5/weather?units=Imperial&APPID=b9adca80c92df15434d94f136a4156e5&q=port-gentil\n",
      "http://api.openweathermap.org/data/2.5/weather?units=Imperial&APPID=b9adca80c92df15434d94f136a4156e5&q=toliary\n",
      "City not found. Skipping...\n",
      "http://api.openweathermap.org/data/2.5/weather?units=Imperial&APPID=b9adca80c92df15434d94f136a4156e5&q=koscian\n",
      "http://api.openweathermap.org/data/2.5/weather?units=Imperial&APPID=b9adca80c92df15434d94f136a4156e5&q=wenchi\n",
      "http://api.openweathermap.org/data/2.5/weather?units=Imperial&APPID=b9adca80c92df15434d94f136a4156e5&q=muros\n",
      "http://api.openweathermap.org/data/2.5/weather?units=Imperial&APPID=b9adca80c92df15434d94f136a4156e5&q=longyearbyen\n",
      "http://api.openweathermap.org/data/2.5/weather?units=Imperial&APPID=b9adca80c92df15434d94f136a4156e5&q=palmer\n",
      "http://api.openweathermap.org/data/2.5/weather?units=Imperial&APPID=b9adca80c92df15434d94f136a4156e5&q=paoua\n",
      "http://api.openweathermap.org/data/2.5/weather?units=Imperial&APPID=b9adca80c92df15434d94f136a4156e5&q=umea\n",
      "http://api.openweathermap.org/data/2.5/weather?units=Imperial&APPID=b9adca80c92df15434d94f136a4156e5&q=shenjiamen\n",
      "http://api.openweathermap.org/data/2.5/weather?units=Imperial&APPID=b9adca80c92df15434d94f136a4156e5&q=tilichiki\n",
      "http://api.openweathermap.org/data/2.5/weather?units=Imperial&APPID=b9adca80c92df15434d94f136a4156e5&q=mataram\n",
      "http://api.openweathermap.org/data/2.5/weather?units=Imperial&APPID=b9adca80c92df15434d94f136a4156e5&q=sur\n",
      "http://api.openweathermap.org/data/2.5/weather?units=Imperial&APPID=b9adca80c92df15434d94f136a4156e5&q=thaba-tseka\n",
      "http://api.openweathermap.org/data/2.5/weather?units=Imperial&APPID=b9adca80c92df15434d94f136a4156e5&q=mantua\n",
      "http://api.openweathermap.org/data/2.5/weather?units=Imperial&APPID=b9adca80c92df15434d94f136a4156e5&q=bredy\n",
      "http://api.openweathermap.org/data/2.5/weather?units=Imperial&APPID=b9adca80c92df15434d94f136a4156e5&q=puerto+parra\n",
      "http://api.openweathermap.org/data/2.5/weather?units=Imperial&APPID=b9adca80c92df15434d94f136a4156e5&q=turan\n",
      "http://api.openweathermap.org/data/2.5/weather?units=Imperial&APPID=b9adca80c92df15434d94f136a4156e5&q=zhovti+vody\n",
      "http://api.openweathermap.org/data/2.5/weather?units=Imperial&APPID=b9adca80c92df15434d94f136a4156e5&q=corbelia\n",
      "http://api.openweathermap.org/data/2.5/weather?units=Imperial&APPID=b9adca80c92df15434d94f136a4156e5&q=chase\n",
      "http://api.openweathermap.org/data/2.5/weather?units=Imperial&APPID=b9adca80c92df15434d94f136a4156e5&q=puerto+del+rosario\n",
      "http://api.openweathermap.org/data/2.5/weather?units=Imperial&APPID=b9adca80c92df15434d94f136a4156e5&q=fortuna\n",
      "http://api.openweathermap.org/data/2.5/weather?units=Imperial&APPID=b9adca80c92df15434d94f136a4156e5&q=korcula\n",
      "http://api.openweathermap.org/data/2.5/weather?units=Imperial&APPID=b9adca80c92df15434d94f136a4156e5&q=rezekne\n",
      "http://api.openweathermap.org/data/2.5/weather?units=Imperial&APPID=b9adca80c92df15434d94f136a4156e5&q=seoul\n",
      "http://api.openweathermap.org/data/2.5/weather?units=Imperial&APPID=b9adca80c92df15434d94f136a4156e5&q=toftir\n",
      "City not found. Skipping...\n",
      "http://api.openweathermap.org/data/2.5/weather?units=Imperial&APPID=b9adca80c92df15434d94f136a4156e5&q=lynn+haven\n",
      "http://api.openweathermap.org/data/2.5/weather?units=Imperial&APPID=b9adca80c92df15434d94f136a4156e5&q=sinop\n",
      "http://api.openweathermap.org/data/2.5/weather?units=Imperial&APPID=b9adca80c92df15434d94f136a4156e5&q=saint+george\n",
      "http://api.openweathermap.org/data/2.5/weather?units=Imperial&APPID=b9adca80c92df15434d94f136a4156e5&q=opuwo\n",
      "http://api.openweathermap.org/data/2.5/weather?units=Imperial&APPID=b9adca80c92df15434d94f136a4156e5&q=kenai\n",
      "http://api.openweathermap.org/data/2.5/weather?units=Imperial&APPID=b9adca80c92df15434d94f136a4156e5&q=altay\n"
     ]
    },
    {
     "name": "stdout",
     "output_type": "stream",
     "text": [
      "http://api.openweathermap.org/data/2.5/weather?units=Imperial&APPID=b9adca80c92df15434d94f136a4156e5&q=anadyr\n",
      "http://api.openweathermap.org/data/2.5/weather?units=Imperial&APPID=b9adca80c92df15434d94f136a4156e5&q=maneadero\n",
      "http://api.openweathermap.org/data/2.5/weather?units=Imperial&APPID=b9adca80c92df15434d94f136a4156e5&q=zyryanka\n",
      "http://api.openweathermap.org/data/2.5/weather?units=Imperial&APPID=b9adca80c92df15434d94f136a4156e5&q=carutapera\n",
      "http://api.openweathermap.org/data/2.5/weather?units=Imperial&APPID=b9adca80c92df15434d94f136a4156e5&q=arcata\n",
      "http://api.openweathermap.org/data/2.5/weather?units=Imperial&APPID=b9adca80c92df15434d94f136a4156e5&q=korhogo\n",
      "http://api.openweathermap.org/data/2.5/weather?units=Imperial&APPID=b9adca80c92df15434d94f136a4156e5&q=dubbo\n",
      "http://api.openweathermap.org/data/2.5/weather?units=Imperial&APPID=b9adca80c92df15434d94f136a4156e5&q=rossland\n",
      "http://api.openweathermap.org/data/2.5/weather?units=Imperial&APPID=b9adca80c92df15434d94f136a4156e5&q=kegayli\n",
      "City not found. Skipping...\n",
      "http://api.openweathermap.org/data/2.5/weather?units=Imperial&APPID=b9adca80c92df15434d94f136a4156e5&q=patacamaya\n",
      "http://api.openweathermap.org/data/2.5/weather?units=Imperial&APPID=b9adca80c92df15434d94f136a4156e5&q=doctor+pedro+p.+pena\n",
      "City not found. Skipping...\n",
      "http://api.openweathermap.org/data/2.5/weather?units=Imperial&APPID=b9adca80c92df15434d94f136a4156e5&q=north+platte\n",
      "http://api.openweathermap.org/data/2.5/weather?units=Imperial&APPID=b9adca80c92df15434d94f136a4156e5&q=peleduy\n",
      "http://api.openweathermap.org/data/2.5/weather?units=Imperial&APPID=b9adca80c92df15434d94f136a4156e5&q=campbell+river\n",
      "http://api.openweathermap.org/data/2.5/weather?units=Imperial&APPID=b9adca80c92df15434d94f136a4156e5&q=satitoa\n",
      "City not found. Skipping...\n",
      "http://api.openweathermap.org/data/2.5/weather?units=Imperial&APPID=b9adca80c92df15434d94f136a4156e5&q=kaduqli\n",
      "http://api.openweathermap.org/data/2.5/weather?units=Imperial&APPID=b9adca80c92df15434d94f136a4156e5&q=folldal\n",
      "http://api.openweathermap.org/data/2.5/weather?units=Imperial&APPID=b9adca80c92df15434d94f136a4156e5&q=contamana\n",
      "http://api.openweathermap.org/data/2.5/weather?units=Imperial&APPID=b9adca80c92df15434d94f136a4156e5&q=fort+william\n",
      "http://api.openweathermap.org/data/2.5/weather?units=Imperial&APPID=b9adca80c92df15434d94f136a4156e5&q=policka\n",
      "http://api.openweathermap.org/data/2.5/weather?units=Imperial&APPID=b9adca80c92df15434d94f136a4156e5&q=herat\n",
      "http://api.openweathermap.org/data/2.5/weather?units=Imperial&APPID=b9adca80c92df15434d94f136a4156e5&q=la+asuncion\n",
      "http://api.openweathermap.org/data/2.5/weather?units=Imperial&APPID=b9adca80c92df15434d94f136a4156e5&q=vidim\n",
      "http://api.openweathermap.org/data/2.5/weather?units=Imperial&APPID=b9adca80c92df15434d94f136a4156e5&q=santa+cruz\n",
      "http://api.openweathermap.org/data/2.5/weather?units=Imperial&APPID=b9adca80c92df15434d94f136a4156e5&q=khani\n",
      "http://api.openweathermap.org/data/2.5/weather?units=Imperial&APPID=b9adca80c92df15434d94f136a4156e5&q=bitung\n",
      "http://api.openweathermap.org/data/2.5/weather?units=Imperial&APPID=b9adca80c92df15434d94f136a4156e5&q=paragominas\n",
      "http://api.openweathermap.org/data/2.5/weather?units=Imperial&APPID=b9adca80c92df15434d94f136a4156e5&q=kodinsk\n",
      "http://api.openweathermap.org/data/2.5/weather?units=Imperial&APPID=b9adca80c92df15434d94f136a4156e5&q=esso\n",
      "http://api.openweathermap.org/data/2.5/weather?units=Imperial&APPID=b9adca80c92df15434d94f136a4156e5&q=north+bend\n",
      "http://api.openweathermap.org/data/2.5/weather?units=Imperial&APPID=b9adca80c92df15434d94f136a4156e5&q=roald\n",
      "http://api.openweathermap.org/data/2.5/weather?units=Imperial&APPID=b9adca80c92df15434d94f136a4156e5&q=ornskoldsvik\n",
      "http://api.openweathermap.org/data/2.5/weather?units=Imperial&APPID=b9adca80c92df15434d94f136a4156e5&q=manokwari\n",
      "http://api.openweathermap.org/data/2.5/weather?units=Imperial&APPID=b9adca80c92df15434d94f136a4156e5&q=kumba\n",
      "http://api.openweathermap.org/data/2.5/weather?units=Imperial&APPID=b9adca80c92df15434d94f136a4156e5&q=bardiyah\n",
      "http://api.openweathermap.org/data/2.5/weather?units=Imperial&APPID=b9adca80c92df15434d94f136a4156e5&q=laredo\n",
      "http://api.openweathermap.org/data/2.5/weather?units=Imperial&APPID=b9adca80c92df15434d94f136a4156e5&q=tari\n",
      "http://api.openweathermap.org/data/2.5/weather?units=Imperial&APPID=b9adca80c92df15434d94f136a4156e5&q=kodlipet\n",
      "http://api.openweathermap.org/data/2.5/weather?units=Imperial&APPID=b9adca80c92df15434d94f136a4156e5&q=caernarfon\n",
      "http://api.openweathermap.org/data/2.5/weather?units=Imperial&APPID=b9adca80c92df15434d94f136a4156e5&q=zapolyarnyy\n",
      "http://api.openweathermap.org/data/2.5/weather?units=Imperial&APPID=b9adca80c92df15434d94f136a4156e5&q=mubi\n",
      "http://api.openweathermap.org/data/2.5/weather?units=Imperial&APPID=b9adca80c92df15434d94f136a4156e5&q=zhezkazgan\n",
      "http://api.openweathermap.org/data/2.5/weather?units=Imperial&APPID=b9adca80c92df15434d94f136a4156e5&q=jidong\n",
      "http://api.openweathermap.org/data/2.5/weather?units=Imperial&APPID=b9adca80c92df15434d94f136a4156e5&q=tambura\n",
      "http://api.openweathermap.org/data/2.5/weather?units=Imperial&APPID=b9adca80c92df15434d94f136a4156e5&q=kota\n",
      "http://api.openweathermap.org/data/2.5/weather?units=Imperial&APPID=b9adca80c92df15434d94f136a4156e5&q=hervey+bay\n",
      "http://api.openweathermap.org/data/2.5/weather?units=Imperial&APPID=b9adca80c92df15434d94f136a4156e5&q=kargopol\n",
      "http://api.openweathermap.org/data/2.5/weather?units=Imperial&APPID=b9adca80c92df15434d94f136a4156e5&q=okandja\n",
      "City not found. Skipping...\n",
      "http://api.openweathermap.org/data/2.5/weather?units=Imperial&APPID=b9adca80c92df15434d94f136a4156e5&q=xining\n",
      "http://api.openweathermap.org/data/2.5/weather?units=Imperial&APPID=b9adca80c92df15434d94f136a4156e5&q=scottsbluff\n",
      "http://api.openweathermap.org/data/2.5/weather?units=Imperial&APPID=b9adca80c92df15434d94f136a4156e5&q=devyatka\n",
      "City not found. Skipping...\n",
      "http://api.openweathermap.org/data/2.5/weather?units=Imperial&APPID=b9adca80c92df15434d94f136a4156e5&q=hokitika\n",
      "http://api.openweathermap.org/data/2.5/weather?units=Imperial&APPID=b9adca80c92df15434d94f136a4156e5&q=angoram\n",
      "http://api.openweathermap.org/data/2.5/weather?units=Imperial&APPID=b9adca80c92df15434d94f136a4156e5&q=kandrian\n",
      "http://api.openweathermap.org/data/2.5/weather?units=Imperial&APPID=b9adca80c92df15434d94f136a4156e5&q=grindavik\n",
      "http://api.openweathermap.org/data/2.5/weather?units=Imperial&APPID=b9adca80c92df15434d94f136a4156e5&q=doctor+arroyo\n",
      "http://api.openweathermap.org/data/2.5/weather?units=Imperial&APPID=b9adca80c92df15434d94f136a4156e5&q=carman\n",
      "http://api.openweathermap.org/data/2.5/weather?units=Imperial&APPID=b9adca80c92df15434d94f136a4156e5&q=atbasar\n",
      "http://api.openweathermap.org/data/2.5/weather?units=Imperial&APPID=b9adca80c92df15434d94f136a4156e5&q=adrar\n",
      "http://api.openweathermap.org/data/2.5/weather?units=Imperial&APPID=b9adca80c92df15434d94f136a4156e5&q=arnedo\n",
      "http://api.openweathermap.org/data/2.5/weather?units=Imperial&APPID=b9adca80c92df15434d94f136a4156e5&q=rosarito\n",
      "http://api.openweathermap.org/data/2.5/weather?units=Imperial&APPID=b9adca80c92df15434d94f136a4156e5&q=chumikan\n",
      "http://api.openweathermap.org/data/2.5/weather?units=Imperial&APPID=b9adca80c92df15434d94f136a4156e5&q=dhidhdhoo\n",
      "http://api.openweathermap.org/data/2.5/weather?units=Imperial&APPID=b9adca80c92df15434d94f136a4156e5&q=jacareacanga\n",
      "http://api.openweathermap.org/data/2.5/weather?units=Imperial&APPID=b9adca80c92df15434d94f136a4156e5&q=masvingo\n",
      "http://api.openweathermap.org/data/2.5/weather?units=Imperial&APPID=b9adca80c92df15434d94f136a4156e5&q=riohacha\n",
      "http://api.openweathermap.org/data/2.5/weather?units=Imperial&APPID=b9adca80c92df15434d94f136a4156e5&q=caxito\n",
      "http://api.openweathermap.org/data/2.5/weather?units=Imperial&APPID=b9adca80c92df15434d94f136a4156e5&q=broken+hill\n",
      "http://api.openweathermap.org/data/2.5/weather?units=Imperial&APPID=b9adca80c92df15434d94f136a4156e5&q=bom+jardim\n",
      "http://api.openweathermap.org/data/2.5/weather?units=Imperial&APPID=b9adca80c92df15434d94f136a4156e5&q=roma\n",
      "http://api.openweathermap.org/data/2.5/weather?units=Imperial&APPID=b9adca80c92df15434d94f136a4156e5&q=gizo\n",
      "http://api.openweathermap.org/data/2.5/weather?units=Imperial&APPID=b9adca80c92df15434d94f136a4156e5&q=los+cedrales\n"
     ]
    },
    {
     "name": "stdout",
     "output_type": "stream",
     "text": [
      "http://api.openweathermap.org/data/2.5/weather?units=Imperial&APPID=b9adca80c92df15434d94f136a4156e5&q=gimbi\n",
      "http://api.openweathermap.org/data/2.5/weather?units=Imperial&APPID=b9adca80c92df15434d94f136a4156e5&q=dali\n",
      "http://api.openweathermap.org/data/2.5/weather?units=Imperial&APPID=b9adca80c92df15434d94f136a4156e5&q=tefe\n",
      "http://api.openweathermap.org/data/2.5/weather?units=Imperial&APPID=b9adca80c92df15434d94f136a4156e5&q=sumbawa\n",
      "City not found. Skipping...\n",
      "http://api.openweathermap.org/data/2.5/weather?units=Imperial&APPID=b9adca80c92df15434d94f136a4156e5&q=poum\n",
      "http://api.openweathermap.org/data/2.5/weather?units=Imperial&APPID=b9adca80c92df15434d94f136a4156e5&q=vardo\n",
      "http://api.openweathermap.org/data/2.5/weather?units=Imperial&APPID=b9adca80c92df15434d94f136a4156e5&q=grand-lahou\n",
      "http://api.openweathermap.org/data/2.5/weather?units=Imperial&APPID=b9adca80c92df15434d94f136a4156e5&q=swellendam\n",
      "http://api.openweathermap.org/data/2.5/weather?units=Imperial&APPID=b9adca80c92df15434d94f136a4156e5&q=phangnga\n",
      "http://api.openweathermap.org/data/2.5/weather?units=Imperial&APPID=b9adca80c92df15434d94f136a4156e5&q=naze\n",
      "http://api.openweathermap.org/data/2.5/weather?units=Imperial&APPID=b9adca80c92df15434d94f136a4156e5&q=raychikhinsk\n",
      "http://api.openweathermap.org/data/2.5/weather?units=Imperial&APPID=b9adca80c92df15434d94f136a4156e5&q=laguna\n",
      "http://api.openweathermap.org/data/2.5/weather?units=Imperial&APPID=b9adca80c92df15434d94f136a4156e5&q=itacoatiara\n",
      "http://api.openweathermap.org/data/2.5/weather?units=Imperial&APPID=b9adca80c92df15434d94f136a4156e5&q=fare\n",
      "http://api.openweathermap.org/data/2.5/weather?units=Imperial&APPID=b9adca80c92df15434d94f136a4156e5&q=ola\n",
      "http://api.openweathermap.org/data/2.5/weather?units=Imperial&APPID=b9adca80c92df15434d94f136a4156e5&q=tura\n",
      "http://api.openweathermap.org/data/2.5/weather?units=Imperial&APPID=b9adca80c92df15434d94f136a4156e5&q=hazorasp\n",
      "http://api.openweathermap.org/data/2.5/weather?units=Imperial&APPID=b9adca80c92df15434d94f136a4156e5&q=antalaha\n",
      "http://api.openweathermap.org/data/2.5/weather?units=Imperial&APPID=b9adca80c92df15434d94f136a4156e5&q=mnogovershinnyy\n",
      "http://api.openweathermap.org/data/2.5/weather?units=Imperial&APPID=b9adca80c92df15434d94f136a4156e5&q=ende\n",
      "http://api.openweathermap.org/data/2.5/weather?units=Imperial&APPID=b9adca80c92df15434d94f136a4156e5&q=caudry\n",
      "http://api.openweathermap.org/data/2.5/weather?units=Imperial&APPID=b9adca80c92df15434d94f136a4156e5&q=ghogha\n",
      "http://api.openweathermap.org/data/2.5/weather?units=Imperial&APPID=b9adca80c92df15434d94f136a4156e5&q=shellbrook\n",
      "http://api.openweathermap.org/data/2.5/weather?units=Imperial&APPID=b9adca80c92df15434d94f136a4156e5&q=teguldet\n",
      "http://api.openweathermap.org/data/2.5/weather?units=Imperial&APPID=b9adca80c92df15434d94f136a4156e5&q=front+royal\n",
      "http://api.openweathermap.org/data/2.5/weather?units=Imperial&APPID=b9adca80c92df15434d94f136a4156e5&q=ust-kulom\n",
      "http://api.openweathermap.org/data/2.5/weather?units=Imperial&APPID=b9adca80c92df15434d94f136a4156e5&q=deputatskiy\n",
      "http://api.openweathermap.org/data/2.5/weather?units=Imperial&APPID=b9adca80c92df15434d94f136a4156e5&q=camana\n",
      "-----------------------------\n",
      "Data Retrieval Complete      \n",
      "-----------------------------\n"
     ]
    }
   ],
   "source": [
    "city_data = []\n",
    "\n",
    "print(\"Beginning Data Retrieval     \")\n",
    "print(\"-----------------------------\")\n",
    "\n",
    "record_count = 1\n",
    "set_count = 1\n",
    "\n",
    "for i, city in enumerate(cities):\n",
    "        \n",
    "    # Group cities in sets of 50 for logging purposes\n",
    "    city_url = url + \"&q=\" + city.replace(\" \",\"+\")\n",
    "    \n",
    "    time.sleep(1)\n",
    "    \n",
    "    try:\n",
    "        city_weather = requests.get(city_url).json()\n",
    "        print(city_url)\n",
    "    \n",
    "        # Parse out the max temp, humidity, and cloudiness\n",
    "        city_lat = city_weather[\"coord\"][\"lat\"]\n",
    "        city_lng = city_weather[\"coord\"][\"lon\"]\n",
    "        city_max_temp = city_weather[\"main\"][\"temp_max\"]\n",
    "        city_humidity = city_weather[\"main\"][\"humidity\"]\n",
    "        city_clouds = city_weather[\"clouds\"][\"all\"]\n",
    "        city_wind = city_weather[\"wind\"][\"speed\"]\n",
    "        city_country = city_weather[\"sys\"][\"country\"]\n",
    "        city_weather_description = city_weather[\"weather\"][0][\"description\"]\n",
    "\n",
    "        city_data.append({\"City\": city.title(), \n",
    "                          \"Lat\": city_lat, \n",
    "                          \"Lng\": city_lng, \n",
    "                          \"Max Temp\": city_max_temp,\n",
    "                          \"Current Description\": city_weather_description,\n",
    "                          \"Humidity\": city_humidity,\n",
    "                          \"Cloudiness\": city_clouds,\n",
    "                          \"Wind Speed\": city_wind,\n",
    "                          \"Country\": city_country})\n",
    "    except:\n",
    "        print(\"City not found. Skipping...\")\n",
    "        pass\n",
    "\n",
    "print(\"-----------------------------\")\n",
    "print(\"Data Retrieval Complete      \")\n",
    "print(\"-----------------------------\")\n"
   ]
  },
  {
   "cell_type": "markdown",
   "metadata": {},
   "source": [
    "### Convert Raw Data to DataFrame\n",
    "* Export the city data into a .csv.\n",
    "* Display the DataFrame"
   ]
  },
  {
   "cell_type": "code",
   "execution_count": 23,
   "metadata": {},
   "outputs": [
    {
     "data": {
      "text/html": [
       "<div>\n",
       "<style scoped>\n",
       "    .dataframe tbody tr th:only-of-type {\n",
       "        vertical-align: middle;\n",
       "    }\n",
       "\n",
       "    .dataframe tbody tr th {\n",
       "        vertical-align: top;\n",
       "    }\n",
       "\n",
       "    .dataframe thead th {\n",
       "        text-align: right;\n",
       "    }\n",
       "</style>\n",
       "<table border=\"1\" class=\"dataframe\">\n",
       "  <thead>\n",
       "    <tr style=\"text-align: right;\">\n",
       "      <th></th>\n",
       "      <th>City</th>\n",
       "      <th>Lat</th>\n",
       "      <th>Lng</th>\n",
       "      <th>Max Temp</th>\n",
       "      <th>Current Description</th>\n",
       "      <th>Humidity</th>\n",
       "      <th>Cloudiness</th>\n",
       "      <th>Wind Speed</th>\n",
       "      <th>Country</th>\n",
       "    </tr>\n",
       "  </thead>\n",
       "  <tbody>\n",
       "    <tr>\n",
       "      <th>0</th>\n",
       "      <td>Tuktoyaktuk</td>\n",
       "      <td>69.4541</td>\n",
       "      <td>-133.0374</td>\n",
       "      <td>24.80</td>\n",
       "      <td>light snow</td>\n",
       "      <td>80</td>\n",
       "      <td>100</td>\n",
       "      <td>28.77</td>\n",
       "      <td>CA</td>\n",
       "    </tr>\n",
       "    <tr>\n",
       "      <th>1</th>\n",
       "      <td>Korop</td>\n",
       "      <td>51.5664</td>\n",
       "      <td>32.9586</td>\n",
       "      <td>26.10</td>\n",
       "      <td>overcast clouds</td>\n",
       "      <td>59</td>\n",
       "      <td>100</td>\n",
       "      <td>12.35</td>\n",
       "      <td>UA</td>\n",
       "    </tr>\n",
       "    <tr>\n",
       "      <th>2</th>\n",
       "      <td>Mataura</td>\n",
       "      <td>-46.1927</td>\n",
       "      <td>168.8643</td>\n",
       "      <td>63.03</td>\n",
       "      <td>overcast clouds</td>\n",
       "      <td>50</td>\n",
       "      <td>98</td>\n",
       "      <td>10.85</td>\n",
       "      <td>NZ</td>\n",
       "    </tr>\n",
       "    <tr>\n",
       "      <th>3</th>\n",
       "      <td>New Norfolk</td>\n",
       "      <td>-42.7826</td>\n",
       "      <td>147.0587</td>\n",
       "      <td>59.92</td>\n",
       "      <td>overcast clouds</td>\n",
       "      <td>50</td>\n",
       "      <td>99</td>\n",
       "      <td>1.79</td>\n",
       "      <td>AU</td>\n",
       "    </tr>\n",
       "    <tr>\n",
       "      <th>4</th>\n",
       "      <td>Acarau</td>\n",
       "      <td>-2.8856</td>\n",
       "      <td>-40.1200</td>\n",
       "      <td>79.90</td>\n",
       "      <td>few clouds</td>\n",
       "      <td>78</td>\n",
       "      <td>11</td>\n",
       "      <td>16.93</td>\n",
       "      <td>BR</td>\n",
       "    </tr>\n",
       "    <tr>\n",
       "      <th>...</th>\n",
       "      <td>...</td>\n",
       "      <td>...</td>\n",
       "      <td>...</td>\n",
       "      <td>...</td>\n",
       "      <td>...</td>\n",
       "      <td>...</td>\n",
       "      <td>...</td>\n",
       "      <td>...</td>\n",
       "      <td>...</td>\n",
       "    </tr>\n",
       "    <tr>\n",
       "      <th>543</th>\n",
       "      <td>Teguldet</td>\n",
       "      <td>57.3064</td>\n",
       "      <td>88.1667</td>\n",
       "      <td>-3.08</td>\n",
       "      <td>overcast clouds</td>\n",
       "      <td>94</td>\n",
       "      <td>98</td>\n",
       "      <td>6.42</td>\n",
       "      <td>RU</td>\n",
       "    </tr>\n",
       "    <tr>\n",
       "      <th>544</th>\n",
       "      <td>Front Royal</td>\n",
       "      <td>38.9182</td>\n",
       "      <td>-78.1944</td>\n",
       "      <td>61.32</td>\n",
       "      <td>overcast clouds</td>\n",
       "      <td>55</td>\n",
       "      <td>100</td>\n",
       "      <td>13.80</td>\n",
       "      <td>US</td>\n",
       "    </tr>\n",
       "    <tr>\n",
       "      <th>545</th>\n",
       "      <td>Ust-Kulom</td>\n",
       "      <td>61.6864</td>\n",
       "      <td>53.6902</td>\n",
       "      <td>5.22</td>\n",
       "      <td>overcast clouds</td>\n",
       "      <td>99</td>\n",
       "      <td>89</td>\n",
       "      <td>3.98</td>\n",
       "      <td>RU</td>\n",
       "    </tr>\n",
       "    <tr>\n",
       "      <th>546</th>\n",
       "      <td>Deputatskiy</td>\n",
       "      <td>69.3000</td>\n",
       "      <td>139.9000</td>\n",
       "      <td>-13.94</td>\n",
       "      <td>overcast clouds</td>\n",
       "      <td>87</td>\n",
       "      <td>100</td>\n",
       "      <td>8.01</td>\n",
       "      <td>RU</td>\n",
       "    </tr>\n",
       "    <tr>\n",
       "      <th>547</th>\n",
       "      <td>Camana</td>\n",
       "      <td>-16.6228</td>\n",
       "      <td>-72.7111</td>\n",
       "      <td>70.48</td>\n",
       "      <td>scattered clouds</td>\n",
       "      <td>73</td>\n",
       "      <td>26</td>\n",
       "      <td>9.51</td>\n",
       "      <td>PE</td>\n",
       "    </tr>\n",
       "  </tbody>\n",
       "</table>\n",
       "<p>548 rows × 9 columns</p>\n",
       "</div>"
      ],
      "text/plain": [
       "            City      Lat       Lng  Max Temp Current Description  Humidity  \\\n",
       "0    Tuktoyaktuk  69.4541 -133.0374     24.80          light snow        80   \n",
       "1          Korop  51.5664   32.9586     26.10     overcast clouds        59   \n",
       "2        Mataura -46.1927  168.8643     63.03     overcast clouds        50   \n",
       "3    New Norfolk -42.7826  147.0587     59.92     overcast clouds        50   \n",
       "4         Acarau  -2.8856  -40.1200     79.90          few clouds        78   \n",
       "..           ...      ...       ...       ...                 ...       ...   \n",
       "543     Teguldet  57.3064   88.1667     -3.08     overcast clouds        94   \n",
       "544  Front Royal  38.9182  -78.1944     61.32     overcast clouds        55   \n",
       "545    Ust-Kulom  61.6864   53.6902      5.22     overcast clouds        99   \n",
       "546  Deputatskiy  69.3000  139.9000    -13.94     overcast clouds        87   \n",
       "547       Camana -16.6228  -72.7111     70.48    scattered clouds        73   \n",
       "\n",
       "     Cloudiness  Wind Speed Country  \n",
       "0           100       28.77      CA  \n",
       "1           100       12.35      UA  \n",
       "2            98       10.85      NZ  \n",
       "3            99        1.79      AU  \n",
       "4            11       16.93      BR  \n",
       "..          ...         ...     ...  \n",
       "543          98        6.42      RU  \n",
       "544         100       13.80      US  \n",
       "545          89        3.98      RU  \n",
       "546         100        8.01      RU  \n",
       "547          26        9.51      PE  \n",
       "\n",
       "[548 rows x 9 columns]"
      ]
     },
     "execution_count": 23,
     "metadata": {},
     "output_type": "execute_result"
    }
   ],
   "source": [
    "df = pd.DataFrame(city_data)\n",
    "df"
   ]
  },
  {
   "cell_type": "code",
   "execution_count": 24,
   "metadata": {},
   "outputs": [],
   "source": [
    "#method to convert the dataframe to a csv\n",
    "df.to_csv(\"city_weather.csv\")"
   ]
  },
  {
   "cell_type": "markdown",
   "metadata": {},
   "source": [
    "## Inspect the data and remove the cities where the humidity > 100%.\n",
    "----\n",
    "Skip this step if there are no cities that have humidity > 100%. "
   ]
  },
  {
   "cell_type": "code",
   "execution_count": 25,
   "metadata": {},
   "outputs": [
    {
     "data": {
      "text/html": [
       "<div>\n",
       "<style scoped>\n",
       "    .dataframe tbody tr th:only-of-type {\n",
       "        vertical-align: middle;\n",
       "    }\n",
       "\n",
       "    .dataframe tbody tr th {\n",
       "        vertical-align: top;\n",
       "    }\n",
       "\n",
       "    .dataframe thead th {\n",
       "        text-align: right;\n",
       "    }\n",
       "</style>\n",
       "<table border=\"1\" class=\"dataframe\">\n",
       "  <thead>\n",
       "    <tr style=\"text-align: right;\">\n",
       "      <th></th>\n",
       "      <th>City</th>\n",
       "      <th>Lat</th>\n",
       "      <th>Lng</th>\n",
       "      <th>Max Temp</th>\n",
       "      <th>Current Description</th>\n",
       "      <th>Humidity</th>\n",
       "      <th>Cloudiness</th>\n",
       "      <th>Wind Speed</th>\n",
       "      <th>Country</th>\n",
       "    </tr>\n",
       "  </thead>\n",
       "  <tbody>\n",
       "    <tr>\n",
       "      <th>0</th>\n",
       "      <td>Tuktoyaktuk</td>\n",
       "      <td>69.4541</td>\n",
       "      <td>-133.0374</td>\n",
       "      <td>24.80</td>\n",
       "      <td>light snow</td>\n",
       "      <td>80</td>\n",
       "      <td>100</td>\n",
       "      <td>28.77</td>\n",
       "      <td>CA</td>\n",
       "    </tr>\n",
       "    <tr>\n",
       "      <th>1</th>\n",
       "      <td>Korop</td>\n",
       "      <td>51.5664</td>\n",
       "      <td>32.9586</td>\n",
       "      <td>26.10</td>\n",
       "      <td>overcast clouds</td>\n",
       "      <td>59</td>\n",
       "      <td>100</td>\n",
       "      <td>12.35</td>\n",
       "      <td>UA</td>\n",
       "    </tr>\n",
       "    <tr>\n",
       "      <th>2</th>\n",
       "      <td>Mataura</td>\n",
       "      <td>-46.1927</td>\n",
       "      <td>168.8643</td>\n",
       "      <td>63.03</td>\n",
       "      <td>overcast clouds</td>\n",
       "      <td>50</td>\n",
       "      <td>98</td>\n",
       "      <td>10.85</td>\n",
       "      <td>NZ</td>\n",
       "    </tr>\n",
       "    <tr>\n",
       "      <th>3</th>\n",
       "      <td>New Norfolk</td>\n",
       "      <td>-42.7826</td>\n",
       "      <td>147.0587</td>\n",
       "      <td>59.92</td>\n",
       "      <td>overcast clouds</td>\n",
       "      <td>50</td>\n",
       "      <td>99</td>\n",
       "      <td>1.79</td>\n",
       "      <td>AU</td>\n",
       "    </tr>\n",
       "    <tr>\n",
       "      <th>4</th>\n",
       "      <td>Acarau</td>\n",
       "      <td>-2.8856</td>\n",
       "      <td>-40.1200</td>\n",
       "      <td>79.90</td>\n",
       "      <td>few clouds</td>\n",
       "      <td>78</td>\n",
       "      <td>11</td>\n",
       "      <td>16.93</td>\n",
       "      <td>BR</td>\n",
       "    </tr>\n",
       "    <tr>\n",
       "      <th>...</th>\n",
       "      <td>...</td>\n",
       "      <td>...</td>\n",
       "      <td>...</td>\n",
       "      <td>...</td>\n",
       "      <td>...</td>\n",
       "      <td>...</td>\n",
       "      <td>...</td>\n",
       "      <td>...</td>\n",
       "      <td>...</td>\n",
       "    </tr>\n",
       "    <tr>\n",
       "      <th>543</th>\n",
       "      <td>Teguldet</td>\n",
       "      <td>57.3064</td>\n",
       "      <td>88.1667</td>\n",
       "      <td>-3.08</td>\n",
       "      <td>overcast clouds</td>\n",
       "      <td>94</td>\n",
       "      <td>98</td>\n",
       "      <td>6.42</td>\n",
       "      <td>RU</td>\n",
       "    </tr>\n",
       "    <tr>\n",
       "      <th>544</th>\n",
       "      <td>Front Royal</td>\n",
       "      <td>38.9182</td>\n",
       "      <td>-78.1944</td>\n",
       "      <td>61.32</td>\n",
       "      <td>overcast clouds</td>\n",
       "      <td>55</td>\n",
       "      <td>100</td>\n",
       "      <td>13.80</td>\n",
       "      <td>US</td>\n",
       "    </tr>\n",
       "    <tr>\n",
       "      <th>545</th>\n",
       "      <td>Ust-Kulom</td>\n",
       "      <td>61.6864</td>\n",
       "      <td>53.6902</td>\n",
       "      <td>5.22</td>\n",
       "      <td>overcast clouds</td>\n",
       "      <td>99</td>\n",
       "      <td>89</td>\n",
       "      <td>3.98</td>\n",
       "      <td>RU</td>\n",
       "    </tr>\n",
       "    <tr>\n",
       "      <th>546</th>\n",
       "      <td>Deputatskiy</td>\n",
       "      <td>69.3000</td>\n",
       "      <td>139.9000</td>\n",
       "      <td>-13.94</td>\n",
       "      <td>overcast clouds</td>\n",
       "      <td>87</td>\n",
       "      <td>100</td>\n",
       "      <td>8.01</td>\n",
       "      <td>RU</td>\n",
       "    </tr>\n",
       "    <tr>\n",
       "      <th>547</th>\n",
       "      <td>Camana</td>\n",
       "      <td>-16.6228</td>\n",
       "      <td>-72.7111</td>\n",
       "      <td>70.48</td>\n",
       "      <td>scattered clouds</td>\n",
       "      <td>73</td>\n",
       "      <td>26</td>\n",
       "      <td>9.51</td>\n",
       "      <td>PE</td>\n",
       "    </tr>\n",
       "  </tbody>\n",
       "</table>\n",
       "<p>535 rows × 9 columns</p>\n",
       "</div>"
      ],
      "text/plain": [
       "            City      Lat       Lng  Max Temp Current Description  Humidity  \\\n",
       "0    Tuktoyaktuk  69.4541 -133.0374     24.80          light snow        80   \n",
       "1          Korop  51.5664   32.9586     26.10     overcast clouds        59   \n",
       "2        Mataura -46.1927  168.8643     63.03     overcast clouds        50   \n",
       "3    New Norfolk -42.7826  147.0587     59.92     overcast clouds        50   \n",
       "4         Acarau  -2.8856  -40.1200     79.90          few clouds        78   \n",
       "..           ...      ...       ...       ...                 ...       ...   \n",
       "543     Teguldet  57.3064   88.1667     -3.08     overcast clouds        94   \n",
       "544  Front Royal  38.9182  -78.1944     61.32     overcast clouds        55   \n",
       "545    Ust-Kulom  61.6864   53.6902      5.22     overcast clouds        99   \n",
       "546  Deputatskiy  69.3000  139.9000    -13.94     overcast clouds        87   \n",
       "547       Camana -16.6228  -72.7111     70.48    scattered clouds        73   \n",
       "\n",
       "     Cloudiness  Wind Speed Country  \n",
       "0           100       28.77      CA  \n",
       "1           100       12.35      UA  \n",
       "2            98       10.85      NZ  \n",
       "3            99        1.79      AU  \n",
       "4            11       16.93      BR  \n",
       "..          ...         ...     ...  \n",
       "543          98        6.42      RU  \n",
       "544         100       13.80      US  \n",
       "545          89        3.98      RU  \n",
       "546         100        8.01      RU  \n",
       "547          26        9.51      PE  \n",
       "\n",
       "[535 rows x 9 columns]"
      ]
     },
     "execution_count": 25,
     "metadata": {},
     "output_type": "execute_result"
    }
   ],
   "source": [
    "key = df[\"Humidity\"]<100\n",
    "df[key]\n",
    "df2 = df[key]\n",
    "df2"
   ]
  },
  {
   "cell_type": "code",
   "execution_count": 26,
   "metadata": {},
   "outputs": [],
   "source": [
    "#  Get the indices of cities that have humidity over 100%.\n",
    "df[\"Humidity\"]\n",
    "df[df[\"Humidity\"]>100].index\n",
    "indices = df[df[\"Humidity\"]>100].index"
   ]
  },
  {
   "cell_type": "code",
   "execution_count": 27,
   "metadata": {},
   "outputs": [
    {
     "data": {
      "text/html": [
       "<div>\n",
       "<style scoped>\n",
       "    .dataframe tbody tr th:only-of-type {\n",
       "        vertical-align: middle;\n",
       "    }\n",
       "\n",
       "    .dataframe tbody tr th {\n",
       "        vertical-align: top;\n",
       "    }\n",
       "\n",
       "    .dataframe thead th {\n",
       "        text-align: right;\n",
       "    }\n",
       "</style>\n",
       "<table border=\"1\" class=\"dataframe\">\n",
       "  <thead>\n",
       "    <tr style=\"text-align: right;\">\n",
       "      <th></th>\n",
       "      <th>City</th>\n",
       "      <th>Lat</th>\n",
       "      <th>Lng</th>\n",
       "      <th>Max Temp</th>\n",
       "      <th>Current Description</th>\n",
       "      <th>Humidity</th>\n",
       "      <th>Cloudiness</th>\n",
       "      <th>Wind Speed</th>\n",
       "      <th>Country</th>\n",
       "    </tr>\n",
       "  </thead>\n",
       "  <tbody>\n",
       "    <tr>\n",
       "      <th>0</th>\n",
       "      <td>Tuktoyaktuk</td>\n",
       "      <td>69.4541</td>\n",
       "      <td>-133.0374</td>\n",
       "      <td>24.80</td>\n",
       "      <td>light snow</td>\n",
       "      <td>80</td>\n",
       "      <td>100</td>\n",
       "      <td>28.77</td>\n",
       "      <td>CA</td>\n",
       "    </tr>\n",
       "    <tr>\n",
       "      <th>1</th>\n",
       "      <td>Korop</td>\n",
       "      <td>51.5664</td>\n",
       "      <td>32.9586</td>\n",
       "      <td>26.10</td>\n",
       "      <td>overcast clouds</td>\n",
       "      <td>59</td>\n",
       "      <td>100</td>\n",
       "      <td>12.35</td>\n",
       "      <td>UA</td>\n",
       "    </tr>\n",
       "    <tr>\n",
       "      <th>2</th>\n",
       "      <td>Mataura</td>\n",
       "      <td>-46.1927</td>\n",
       "      <td>168.8643</td>\n",
       "      <td>63.03</td>\n",
       "      <td>overcast clouds</td>\n",
       "      <td>50</td>\n",
       "      <td>98</td>\n",
       "      <td>10.85</td>\n",
       "      <td>NZ</td>\n",
       "    </tr>\n",
       "    <tr>\n",
       "      <th>3</th>\n",
       "      <td>New Norfolk</td>\n",
       "      <td>-42.7826</td>\n",
       "      <td>147.0587</td>\n",
       "      <td>59.92</td>\n",
       "      <td>overcast clouds</td>\n",
       "      <td>50</td>\n",
       "      <td>99</td>\n",
       "      <td>1.79</td>\n",
       "      <td>AU</td>\n",
       "    </tr>\n",
       "    <tr>\n",
       "      <th>4</th>\n",
       "      <td>Acarau</td>\n",
       "      <td>-2.8856</td>\n",
       "      <td>-40.1200</td>\n",
       "      <td>79.90</td>\n",
       "      <td>few clouds</td>\n",
       "      <td>78</td>\n",
       "      <td>11</td>\n",
       "      <td>16.93</td>\n",
       "      <td>BR</td>\n",
       "    </tr>\n",
       "    <tr>\n",
       "      <th>...</th>\n",
       "      <td>...</td>\n",
       "      <td>...</td>\n",
       "      <td>...</td>\n",
       "      <td>...</td>\n",
       "      <td>...</td>\n",
       "      <td>...</td>\n",
       "      <td>...</td>\n",
       "      <td>...</td>\n",
       "      <td>...</td>\n",
       "    </tr>\n",
       "    <tr>\n",
       "      <th>543</th>\n",
       "      <td>Teguldet</td>\n",
       "      <td>57.3064</td>\n",
       "      <td>88.1667</td>\n",
       "      <td>-3.08</td>\n",
       "      <td>overcast clouds</td>\n",
       "      <td>94</td>\n",
       "      <td>98</td>\n",
       "      <td>6.42</td>\n",
       "      <td>RU</td>\n",
       "    </tr>\n",
       "    <tr>\n",
       "      <th>544</th>\n",
       "      <td>Front Royal</td>\n",
       "      <td>38.9182</td>\n",
       "      <td>-78.1944</td>\n",
       "      <td>61.32</td>\n",
       "      <td>overcast clouds</td>\n",
       "      <td>55</td>\n",
       "      <td>100</td>\n",
       "      <td>13.80</td>\n",
       "      <td>US</td>\n",
       "    </tr>\n",
       "    <tr>\n",
       "      <th>545</th>\n",
       "      <td>Ust-Kulom</td>\n",
       "      <td>61.6864</td>\n",
       "      <td>53.6902</td>\n",
       "      <td>5.22</td>\n",
       "      <td>overcast clouds</td>\n",
       "      <td>99</td>\n",
       "      <td>89</td>\n",
       "      <td>3.98</td>\n",
       "      <td>RU</td>\n",
       "    </tr>\n",
       "    <tr>\n",
       "      <th>546</th>\n",
       "      <td>Deputatskiy</td>\n",
       "      <td>69.3000</td>\n",
       "      <td>139.9000</td>\n",
       "      <td>-13.94</td>\n",
       "      <td>overcast clouds</td>\n",
       "      <td>87</td>\n",
       "      <td>100</td>\n",
       "      <td>8.01</td>\n",
       "      <td>RU</td>\n",
       "    </tr>\n",
       "    <tr>\n",
       "      <th>547</th>\n",
       "      <td>Camana</td>\n",
       "      <td>-16.6228</td>\n",
       "      <td>-72.7111</td>\n",
       "      <td>70.48</td>\n",
       "      <td>scattered clouds</td>\n",
       "      <td>73</td>\n",
       "      <td>26</td>\n",
       "      <td>9.51</td>\n",
       "      <td>PE</td>\n",
       "    </tr>\n",
       "  </tbody>\n",
       "</table>\n",
       "<p>548 rows × 9 columns</p>\n",
       "</div>"
      ],
      "text/plain": [
       "            City      Lat       Lng  Max Temp Current Description  Humidity  \\\n",
       "0    Tuktoyaktuk  69.4541 -133.0374     24.80          light snow        80   \n",
       "1          Korop  51.5664   32.9586     26.10     overcast clouds        59   \n",
       "2        Mataura -46.1927  168.8643     63.03     overcast clouds        50   \n",
       "3    New Norfolk -42.7826  147.0587     59.92     overcast clouds        50   \n",
       "4         Acarau  -2.8856  -40.1200     79.90          few clouds        78   \n",
       "..           ...      ...       ...       ...                 ...       ...   \n",
       "543     Teguldet  57.3064   88.1667     -3.08     overcast clouds        94   \n",
       "544  Front Royal  38.9182  -78.1944     61.32     overcast clouds        55   \n",
       "545    Ust-Kulom  61.6864   53.6902      5.22     overcast clouds        99   \n",
       "546  Deputatskiy  69.3000  139.9000    -13.94     overcast clouds        87   \n",
       "547       Camana -16.6228  -72.7111     70.48    scattered clouds        73   \n",
       "\n",
       "     Cloudiness  Wind Speed Country  \n",
       "0           100       28.77      CA  \n",
       "1           100       12.35      UA  \n",
       "2            98       10.85      NZ  \n",
       "3            99        1.79      AU  \n",
       "4            11       16.93      BR  \n",
       "..          ...         ...     ...  \n",
       "543          98        6.42      RU  \n",
       "544         100       13.80      US  \n",
       "545          89        3.98      RU  \n",
       "546         100        8.01      RU  \n",
       "547          26        9.51      PE  \n",
       "\n",
       "[548 rows x 9 columns]"
      ]
     },
     "execution_count": 27,
     "metadata": {},
     "output_type": "execute_result"
    }
   ],
   "source": [
    "# Make a new DataFrame equal to the city data to drop all humidity outliers \n",
    "#by index.\n",
    "df.drop(indices)\n",
    "# Passing \"inplace=False\" will make a copy of the city_data DataFrame, \n",
    "#which we call \"clean_city_data\".\n",
    "clean_city_data = df.drop(indices)\n",
    "clean_city_data"
   ]
  },
  {
   "cell_type": "code",
   "execution_count": null,
   "metadata": {},
   "outputs": [],
   "source": [
    "\n"
   ]
  },
  {
   "cell_type": "markdown",
   "metadata": {},
   "source": [
    "## Plotting the Data\n",
    "* Use proper labeling of the plots using plot titles (including date of analysis) and axes labels.\n",
    "* Save the plotted figures as .pngs."
   ]
  },
  {
   "cell_type": "markdown",
   "metadata": {},
   "source": [
    "## Latitude vs. Temperature Plot"
   ]
  },
  {
   "cell_type": "code",
   "execution_count": 32,
   "metadata": {
    "scrolled": true
   },
   "outputs": [
    {
     "data": {
      "image/png": "[encoded data removed]",
      "text/plain": [
       "<Figure size 432x288 with 1 Axes>"
      ]
     },
     "metadata": {
      "needs_background": "light"
     },
     "output_type": "display_data"
    }
   ],
   "source": [
    "x_values=clean_city_data['Lat']\n",
    "y_values=clean_city_data['Max Temp']\n",
    "plt.scatter(x_values, y_values, color=\"red\")\n",
    "plt.xlabel('Latitude')\n",
    "plt.ylabel('Max Temperature')\n",
    "plt.title('Latitude Vs. Temperature Scatter Plot')\n",
    "plt.show()"
   ]
  },
  {
   "cell_type": "markdown",
   "metadata": {},
   "source": [
    "## Latitude vs. Humidity Plot"
   ]
  },
  {
   "cell_type": "code",
   "execution_count": 33,
   "metadata": {},
   "outputs": [
    {
     "data": {
      "image/png": "[encoded data removed]",
      "text/plain": [
       "<Figure size 432x288 with 1 Axes>"
      ]
     },
     "metadata": {
      "needs_background": "light"
     },
     "output_type": "display_data"
    }
   ],
   "source": [
    "x_values=clean_city_data['Lat']\n",
    "y_values=clean_city_data['Humidity']\n",
    "plt.scatter(x_values, y_values, color=\"royalblue\")\n",
    "plt.xlabel('Latitude')\n",
    "plt.ylabel('Humidity')\n",
    "plt.title('Latitude Vs. Humidity Scatter Plot')\n",
    "plt.show()"
   ]
  },
  {
   "cell_type": "markdown",
   "metadata": {},
   "source": [
    "## Latitude vs. Cloudiness Plot"
   ]
  },
  {
   "cell_type": "code",
   "execution_count": 34,
   "metadata": {},
   "outputs": [
    {
     "data": {
      "image/png": "[encoded data removed]",
      "text/plain": [
       "<Figure size 432x288 with 1 Axes>"
      ]
     },
     "metadata": {
      "needs_background": "light"
     },
     "output_type": "display_data"
    }
   ],
   "source": [
    "x_values=clean_city_data['Lat']\n",
    "y_values=clean_city_data['Cloudiness']\n",
    "plt.scatter(x_values, y_values, color=\"gray\")\n",
    "plt.xlabel('Latitude')\n",
    "plt.ylabel('Cloudiness')\n",
    "plt.title('Latitude Vs. Cloudiness Scatter Plot')\n",
    "plt.show()"
   ]
  },
  {
   "cell_type": "markdown",
   "metadata": {},
   "source": [
    "## Latitude vs. Wind Speed Plot"
   ]
  },
  {
   "cell_type": "code",
   "execution_count": 35,
   "metadata": {},
   "outputs": [
    {
     "data": {
      "image/png": "[encoded data removed]",
      "text/plain": [
       "<Figure size 432x288 with 1 Axes>"
      ]
     },
     "metadata": {
      "needs_background": "light"
     },
     "output_type": "display_data"
    }
   ],
   "source": [
    "x_values=clean_city_data['Lat']\n",
    "y_values=clean_city_data['Wind Speed']\n",
    "plt.scatter(x_values, y_values, color=\"darkgreen\")\n",
    "plt.xlabel('Latitude')\n",
    "plt.ylabel('Wind Speed')\n",
    "plt.title('Latitude Vs. Wind Speed Scatter Plot')\n",
    "plt.show()"
   ]
  },
  {
   "cell_type": "markdown",
   "metadata": {},
   "source": [
    "## Linear Regression"
   ]
  },
  {
   "cell_type": "code",
   "execution_count": 36,
   "metadata": {},
   "outputs": [],
   "source": [
    "north_hem= clean_city_data[clean_city_data['Lat'] > 0]\n",
    "south_hem= clean_city_data[clean_city_data['Lat'] < 0]"
   ]
  },
  {
   "cell_type": "code",
   "execution_count": 37,
   "metadata": {},
   "outputs": [
    {
     "data": {
      "text/plain": [
       "City                   381\n",
       "Lat                    381\n",
       "Lng                    381\n",
       "Max Temp               381\n",
       "Current Description    381\n",
       "Humidity               381\n",
       "Cloudiness             381\n",
       "Wind Speed             381\n",
       "Country                381\n",
       "dtype: int64"
      ]
     },
     "execution_count": 37,
     "metadata": {},
     "output_type": "execute_result"
    }
   ],
   "source": [
    "north_hem.count()"
   ]
  },
  {
   "cell_type": "code",
   "execution_count": 38,
   "metadata": {},
   "outputs": [
    {
     "data": {
      "text/plain": [
       "City                   167\n",
       "Lat                    167\n",
       "Lng                    167\n",
       "Max Temp               167\n",
       "Current Description    167\n",
       "Humidity               167\n",
       "Cloudiness             167\n",
       "Wind Speed             167\n",
       "Country                167\n",
       "dtype: int64"
      ]
     },
     "execution_count": 38,
     "metadata": {},
     "output_type": "execute_result"
    }
   ],
   "source": [
    "south_hem.count()"
   ]
  },
  {
   "cell_type": "markdown",
   "metadata": {},
   "source": [
    "####  Northern Hemisphere - Max Temp vs. Latitude Linear Regression"
   ]
  },
  {
   "cell_type": "code",
   "execution_count": 42,
   "metadata": {},
   "outputs": [
    {
     "name": "stdout",
     "output_type": "stream",
     "text": [
      "0       2.651961\n",
      "1      25.338397\n",
      "5      20.040706\n",
      "6      65.715935\n",
      "9      36.710089\n",
      "         ...    \n",
      "542    23.245244\n",
      "543    18.058527\n",
      "544    41.379733\n",
      "545    12.503503\n",
      "546     2.847401\n",
      "Name: Lat, Length: 381, dtype: float64\n"
     ]
    }
   ],
   "source": [
    "x_values= north_hem['Lat']\n",
    "y_values= north_hem['Max Temp']\n",
    "# Perform a linear regression on temp v. lat\n",
    "(slope, intercept, rvalue, pvalue, stderr) = linregress(x_values, y_values)\n",
    "\n",
    "# Get regression values\n",
    "regress_values = x_values * slope + intercept\n",
    "print(regress_values)"
   ]
  },
  {
   "cell_type": "code",
   "execution_count": 43,
   "metadata": {
    "scrolled": true
   },
   "outputs": [
    {
     "name": "stdout",
     "output_type": "stream",
     "text": [
      "y = -1.27x +90.74\n"
     ]
    }
   ],
   "source": [
    "# Create line equation string\n",
    "line_eq = \"y = \" + str(round(slope,2)) + \"x +\" + str(round(intercept,2))\n",
    "print(line_eq)"
   ]
  },
  {
   "cell_type": "code",
   "execution_count": 44,
   "metadata": {},
   "outputs": [
    {
     "name": "stdout",
     "output_type": "stream",
     "text": [
      "The r-value is: 0.7003551774611939\n"
     ]
    },
    {
     "data": {
      "image/png": "[encoded data removed]",
      "text/plain": [
       "<Figure size 432x288 with 1 Axes>"
      ]
     },
     "metadata": {
      "needs_background": "light"
     },
     "output_type": "display_data"
    }
   ],
   "source": [
    "# Create Plot\n",
    "plt.scatter(x_values,y_values)\n",
    "plt.plot(x_values,regress_values,\"r-\")\n",
    "\n",
    "# Label plot and annotate the line equation\n",
    "plt.xlabel('Latitude')\n",
    "plt.ylabel('Temperature')\n",
    "plt.annotate(line_eq,(20,15),fontsize=15,color=\"red\")\n",
    "\n",
    "# Print r value\n",
    "print(f\"The r-value is: {rvalue**2}\")\n",
    "\n",
    "# Show plot\n",
    "plt.show()"
   ]
  },
  {
   "cell_type": "markdown",
   "metadata": {},
   "source": [
    "####  Southern Hemisphere - Max Temp vs. Latitude Linear Regression"
   ]
  },
  {
   "cell_type": "code",
   "execution_count": 45,
   "metadata": {
    "scrolled": true
   },
   "outputs": [
    {
     "name": "stdout",
     "output_type": "stream",
     "text": [
      "2      63.887842\n",
      "3      65.120701\n",
      "4      79.544732\n",
      "7      65.450743\n",
      "8      72.229246\n",
      "         ...    \n",
      "532    79.451637\n",
      "533    74.550388\n",
      "537    75.201037\n",
      "539    77.390870\n",
      "547    74.578298\n",
      "Name: Lat, Length: 167, dtype: float64\n"
     ]
    }
   ],
   "source": [
    "x_values= south_hem['Lat']\n",
    "y_values= south_hem['Max Temp']\n",
    "# Perform a linear regression on temp v. lat\n",
    "(slope, intercept, rvalue, pvalue, stderr) = linregress(x_values, y_values)\n",
    "\n",
    "# Get regression values\n",
    "regress_values = x_values * slope + intercept\n",
    "print(regress_values)"
   ]
  },
  {
   "cell_type": "code",
   "execution_count": 46,
   "metadata": {},
   "outputs": [
    {
     "name": "stdout",
     "output_type": "stream",
     "text": [
      "y = 0.36x +80.59\n"
     ]
    }
   ],
   "source": [
    "line_eq = \"y = \" + str(round(slope,2)) + \"x +\" + str(round(intercept,2))\n",
    "print(line_eq)"
   ]
  },
  {
   "cell_type": "code",
   "execution_count": 49,
   "metadata": {},
   "outputs": [
    {
     "name": "stdout",
     "output_type": "stream",
     "text": [
      "The r-value is: 0.3092791425775863\n"
     ]
    },
    {
     "data": {
      "image/png": "[encoded data removed]",
      "text/plain": [
       "<Figure size 432x288 with 1 Axes>"
      ]
     },
     "metadata": {
      "needs_background": "light"
     },
     "output_type": "display_data"
    }
   ],
   "source": [
    "# Create Plot\n",
    "plt.scatter(x_values,y_values, color=\"green\")\n",
    "plt.plot(x_values,regress_values,\"r-\")\n",
    "\n",
    "# Label plot and annotate the line equation\n",
    "plt.xlabel('Latitude')\n",
    "plt.ylabel('Temperature')\n",
    "plt.annotate(line_eq,(20,15),fontsize=15,color=\"red\")\n",
    "\n",
    "# Print r value\n",
    "print(f\"The r-value is: {rvalue**2}\")\n",
    "\n",
    "# Show plot\n",
    "plt.show()"
   ]
  },
  {
   "cell_type": "markdown",
   "metadata": {},
   "source": [
    "####  Northern Hemisphere - Humidity (%) vs. Latitude Linear Regression"
   ]
  },
  {
   "cell_type": "code",
   "execution_count": 50,
   "metadata": {},
   "outputs": [
    {
     "name": "stdout",
     "output_type": "stream",
     "text": [
      "0      86.165149\n",
      "1      80.558481\n",
      "5      81.867739\n",
      "6      70.579681\n",
      "9      77.748111\n",
      "         ...    \n",
      "542    81.075778\n",
      "543    82.357610\n",
      "544    76.594067\n",
      "545    83.730464\n",
      "546    86.116848\n",
      "Name: Lat, Length: 381, dtype: float64\n"
     ]
    }
   ],
   "source": [
    "x_values= north_hem['Lat']\n",
    "y_values= north_hem['Humidity']\n",
    "# Perform a linear regression on temp v. lat\n",
    "(slope, intercept, rvalue, pvalue, stderr) = linregress(x_values, y_values)\n",
    "\n",
    "# Get regression values\n",
    "regress_values = x_values * slope + intercept\n",
    "print(regress_values)"
   ]
  },
  {
   "cell_type": "code",
   "execution_count": 51,
   "metadata": {},
   "outputs": [
    {
     "name": "stdout",
     "output_type": "stream",
     "text": [
      "y = 0.31x +64.4\n"
     ]
    }
   ],
   "source": [
    "line_eq = \"y = \" + str(round(slope,2)) + \"x +\" + str(round(intercept,2))\n",
    "print(line_eq)"
   ]
  },
  {
   "cell_type": "code",
   "execution_count": 52,
   "metadata": {},
   "outputs": [
    {
     "name": "stdout",
     "output_type": "stream",
     "text": [
      "The r-value is: 0.10291446873348893\n"
     ]
    },
    {
     "data": {
      "image/png": "[encoded data removed]",
      "text/plain": [
       "<Figure size 432x288 with 1 Axes>"
      ]
     },
     "metadata": {
      "needs_background": "light"
     },
     "output_type": "display_data"
    }
   ],
   "source": [
    "# Create Plot\n",
    "plt.scatter(x_values,y_values)\n",
    "plt.plot(x_values,regress_values,\"r-\")\n",
    "\n",
    "# Label plot and annotate the line equation\n",
    "plt.xlabel('Latitude')\n",
    "plt.ylabel('Humidity')\n",
    "plt.annotate(line_eq,(20,15),fontsize=15,color=\"royalblue\")\n",
    "\n",
    "# Print r value\n",
    "print(f\"The r-value is: {rvalue**2}\")\n",
    "\n",
    "# Show plot\n",
    "plt.show()"
   ]
  },
  {
   "cell_type": "markdown",
   "metadata": {},
   "source": [
    "####  Southern Hemisphere - Humidity (%) vs. Latitude Linear Regression"
   ]
  },
  {
   "cell_type": "code",
   "execution_count": 57,
   "metadata": {},
   "outputs": [
    {
     "name": "stdout",
     "output_type": "stream",
     "text": [
      "2      57.173089\n",
      "3      59.169606\n",
      "4      82.528173\n",
      "7      59.704083\n",
      "8      70.681328\n",
      "         ...    \n",
      "532    82.377414\n",
      "533    74.440232\n",
      "537    75.493905\n",
      "539    79.040166\n",
      "547    74.485430\n",
      "Name: Lat, Length: 167, dtype: float64\n"
     ]
    }
   ],
   "source": [
    "x_values= south_hem['Lat']\n",
    "y_values= south_hem['Humidity']\n",
    "# Perform a linear regression on temp v. lat\n",
    "(slope, intercept, rvalue, pvalue, stderr) = linregress(x_values, y_values)\n",
    "\n",
    "# Get regression values\n",
    "regress_values = x_values * slope + intercept\n",
    "print(regress_values)"
   ]
  },
  {
   "cell_type": "code",
   "execution_count": 54,
   "metadata": {},
   "outputs": [
    {
     "name": "stdout",
     "output_type": "stream",
     "text": [
      "y = 0.59x +84.22\n"
     ]
    }
   ],
   "source": [
    "line_eq = \"y = \" + str(round(slope,2)) + \"x +\" + str(round(intercept,2))\n",
    "print(line_eq)"
   ]
  },
  {
   "cell_type": "code",
   "execution_count": 55,
   "metadata": {},
   "outputs": [
    {
     "name": "stdout",
     "output_type": "stream",
     "text": [
      "The r-value is: 0.15276216698107992\n"
     ]
    },
    {
     "data": {
      "image/png": "[encoded data removed]",
      "text/plain": [
       "<Figure size 432x288 with 1 Axes>"
      ]
     },
     "metadata": {
      "needs_background": "light"
     },
     "output_type": "display_data"
    }
   ],
   "source": [
    "# Create Plot\n",
    "plt.scatter(x_values,y_values, color=\"green\")\n",
    "plt.plot(x_values,regress_values,\"r-\")\n",
    "\n",
    "# Label plot and annotate the line equation\n",
    "plt.xlabel('Latitude')\n",
    "plt.ylabel('Humidity')\n",
    "plt.annotate(line_eq,(20,15),fontsize=15,color=\"royalblue\")\n",
    "\n",
    "# Print r value\n",
    "print(f\"The r-value is: {rvalue**2}\")\n",
    "\n",
    "# Show plot\n",
    "plt.show()"
   ]
  },
  {
   "cell_type": "markdown",
   "metadata": {},
   "source": [
    "####  Northern Hemisphere - Cloudiness (%) vs. Latitude Linear Regression"
   ]
  },
  {
   "cell_type": "code",
   "execution_count": 58,
   "metadata": {},
   "outputs": [
    {
     "name": "stdout",
     "output_type": "stream",
     "text": [
      "0      74.085468\n",
      "1      68.988075\n",
      "5      70.178408\n",
      "6      59.915685\n",
      "9      66.432981\n",
      "         ...    \n",
      "542    69.458384\n",
      "543    70.623782\n",
      "544    65.383763\n",
      "545    71.871935\n",
      "546    74.041555\n",
      "Name: Lat, Length: 381, dtype: float64\n"
     ]
    }
   ],
   "source": [
    "x_values= north_hem['Lat']\n",
    "y_values= north_hem['Cloudiness']\n",
    "# Perform a linear regression on temp v. lat\n",
    "(slope, intercept, rvalue, pvalue, stderr) = linregress(x_values, y_values)\n",
    "\n",
    "# Get regression values\n",
    "regress_values = x_values * slope + intercept\n",
    "print(regress_values)"
   ]
  },
  {
   "cell_type": "code",
   "execution_count": 59,
   "metadata": {},
   "outputs": [
    {
     "name": "stdout",
     "output_type": "stream",
     "text": [
      "y = 0.28x +54.29\n"
     ]
    }
   ],
   "source": [
    "line_eq = \"y = \" + str(round(slope,2)) + \"x +\" + str(round(intercept,2))\n",
    "print(line_eq)"
   ]
  },
  {
   "cell_type": "code",
   "execution_count": 60,
   "metadata": {},
   "outputs": [
    {
     "name": "stdout",
     "output_type": "stream",
     "text": [
      "The r-value is: 0.022994855669448384\n"
     ]
    },
    {
     "data": {
      "image/png": "[encoded data removed]",
      "text/plain": [
       "<Figure size 432x288 with 1 Axes>"
      ]
     },
     "metadata": {
      "needs_background": "light"
     },
     "output_type": "display_data"
    }
   ],
   "source": [
    "# Create Plot\n",
    "plt.scatter(x_values,y_values)\n",
    "plt.plot(x_values,regress_values,\"r-\")\n",
    "\n",
    "# Label plot and annotate the line equation\n",
    "plt.xlabel('Latitude')\n",
    "plt.ylabel('Cloudiness')\n",
    "plt.annotate(line_eq,(20,15),fontsize=15,color=\"gray\")\n",
    "\n",
    "# Print r value\n",
    "print(f\"The r-value is: {rvalue**2}\")\n",
    "\n",
    "# Show plot\n",
    "plt.show()"
   ]
  },
  {
   "cell_type": "markdown",
   "metadata": {},
   "source": [
    "####  Southern Hemisphere - Cloudiness (%) vs. Latitude Linear Regression"
   ]
  },
  {
   "cell_type": "code",
   "execution_count": 61,
   "metadata": {},
   "outputs": [
    {
     "name": "stdout",
     "output_type": "stream",
     "text": [
      "2      53.203736\n",
      "3      54.543265\n",
      "4      70.215289\n",
      "7      54.901863\n",
      "8      62.266854\n",
      "         ...    \n",
      "532    70.114140\n",
      "533    64.788826\n",
      "537    65.495770\n",
      "539    67.875072\n",
      "547    64.819151\n",
      "Name: Lat, Length: 167, dtype: float64\n"
     ]
    }
   ],
   "source": [
    "x_values= south_hem['Lat']\n",
    "y_values= south_hem['Cloudiness']\n",
    "# Perform a linear regression on temp v. lat\n",
    "(slope, intercept, rvalue, pvalue, stderr) = linregress(x_values, y_values)\n",
    "\n",
    "# Get regression values\n",
    "regress_values = x_values * slope + intercept\n",
    "print(regress_values)"
   ]
  },
  {
   "cell_type": "code",
   "execution_count": 62,
   "metadata": {},
   "outputs": [
    {
     "name": "stdout",
     "output_type": "stream",
     "text": [
      "y = 0.39x +71.35\n"
     ]
    }
   ],
   "source": [
    "line_eq = \"y = \" + str(round(slope,2)) + \"x +\" + str(round(intercept,2))\n",
    "print(line_eq)"
   ]
  },
  {
   "cell_type": "code",
   "execution_count": 64,
   "metadata": {},
   "outputs": [
    {
     "name": "stdout",
     "output_type": "stream",
     "text": [
      "The r-value is: 0.019739125850694213\n"
     ]
    },
    {
     "data": {
      "image/png": "[encoded data removed]",
      "text/plain": [
       "<Figure size 432x288 with 1 Axes>"
      ]
     },
     "metadata": {
      "needs_background": "light"
     },
     "output_type": "display_data"
    }
   ],
   "source": [
    "# Create Plot\n",
    "plt.scatter(x_values,y_values, color=\"green\")\n",
    "plt.plot(x_values,regress_values,\"r-\")\n",
    "\n",
    "# Label plot and annotate the line equation\n",
    "plt.xlabel('Latitude')\n",
    "plt.ylabel('Cloudiness')\n",
    "plt.annotate(line_eq,(20,15),fontsize=15,color=\"gray\")\n",
    "\n",
    "# Print r value\n",
    "print(f\"The r-value is: {rvalue**2}\")\n",
    "\n",
    "# Show plot\n",
    "plt.show()"
   ]
  },
  {
   "cell_type": "markdown",
   "metadata": {},
   "source": [
    "####  Northern Hemisphere - Wind Speed (mph) vs. Latitude Linear Regression"
   ]
  },
  {
   "cell_type": "code",
   "execution_count": 65,
   "metadata": {},
   "outputs": [
    {
     "name": "stdout",
     "output_type": "stream",
     "text": [
      "0      10.788181\n",
      "1       9.417947\n",
      "5       9.737922\n",
      "6       6.979193\n",
      "9       8.731111\n",
      "         ...    \n",
      "542     9.544371\n",
      "543     9.857643\n",
      "544     8.449070\n",
      "545    10.193160\n",
      "546    10.776377\n",
      "Name: Lat, Length: 381, dtype: float64\n"
     ]
    }
   ],
   "source": [
    "x_values= north_hem['Lat']\n",
    "y_values= north_hem['Wind Speed']\n",
    "# Perform a linear regression on temp v. lat\n",
    "(slope, intercept, rvalue, pvalue, stderr) = linregress(x_values, y_values)\n",
    "\n",
    "# Get regression values\n",
    "regress_values = x_values * slope + intercept\n",
    "print(regress_values)"
   ]
  },
  {
   "cell_type": "code",
   "execution_count": 66,
   "metadata": {},
   "outputs": [
    {
     "name": "stdout",
     "output_type": "stream",
     "text": [
      "y = 0.08x +5.47\n"
     ]
    }
   ],
   "source": [
    "line_eq = \"y = \" + str(round(slope,2)) + \"x +\" + str(round(intercept,2))\n",
    "print(line_eq)"
   ]
  },
  {
   "cell_type": "code",
   "execution_count": 67,
   "metadata": {
    "scrolled": true
   },
   "outputs": [
    {
     "name": "stdout",
     "output_type": "stream",
     "text": [
      "The r-value is: 0.05157471380513219\n"
     ]
    },
    {
     "data": {
      "image/png": "[encoded data removed]",
      "text/plain": [
       "<Figure size 432x288 with 1 Axes>"
      ]
     },
     "metadata": {
      "needs_background": "light"
     },
     "output_type": "display_data"
    }
   ],
   "source": [
    "# Create Plot\n",
    "plt.scatter(x_values,y_values)\n",
    "plt.plot(x_values,regress_values,\"r-\")\n",
    "\n",
    "# Label plot and annotate the line equation\n",
    "plt.xlabel('Latitude')\n",
    "plt.ylabel('Wind Speed')\n",
    "plt.annotate(line_eq,(20,15),fontsize=15,color=\"red\")\n",
    "\n",
    "# Print r value\n",
    "print(f\"The r-value is: {rvalue**2}\")\n",
    "\n",
    "# Show plot\n",
    "plt.show()"
   ]
  },
  {
   "cell_type": "markdown",
   "metadata": {},
   "source": [
    "####  Southern Hemisphere - Wind Speed (mph) vs. Latitude Linear Regression"
   ]
  },
  {
   "cell_type": "code",
   "execution_count": 68,
   "metadata": {},
   "outputs": [
    {
     "name": "stdout",
     "output_type": "stream",
     "text": [
      "2      11.902549\n",
      "3      11.339395\n",
      "4       4.750686\n",
      "7      11.188636\n",
      "8       8.092304\n",
      "         ...    \n",
      "532     4.793211\n",
      "533     7.032037\n",
      "537     6.734829\n",
      "539     5.734542\n",
      "547     7.019288\n",
      "Name: Lat, Length: 167, dtype: float64\n"
     ]
    }
   ],
   "source": [
    "x_values= south_hem['Lat']\n",
    "y_values= south_hem['Wind Speed']\n",
    "# Perform a linear regression on temp v. lat\n",
    "(slope, intercept, rvalue, pvalue, stderr) = linregress(x_values, y_values)\n",
    "\n",
    "# Get regression values\n",
    "regress_values = x_values * slope + intercept\n",
    "print(regress_values)"
   ]
  },
  {
   "cell_type": "code",
   "execution_count": 69,
   "metadata": {},
   "outputs": [
    {
     "name": "stdout",
     "output_type": "stream",
     "text": [
      "y = -0.17x +4.27\n"
     ]
    }
   ],
   "source": [
    "line_eq = \"y = \" + str(round(slope,2)) + \"x +\" + str(round(intercept,2))\n",
    "print(line_eq)"
   ]
  },
  {
   "cell_type": "code",
   "execution_count": 70,
   "metadata": {},
   "outputs": [
    {
     "name": "stdout",
     "output_type": "stream",
     "text": [
      "The r-value is: 0.13821276170320873\n"
     ]
    },
    {
     "data": {
      "image/png": "[encoded data removed]",
      "text/plain": [
       "<Figure size 432x288 with 1 Axes>"
      ]
     },
     "metadata": {
      "needs_background": "light"
     },
     "output_type": "display_data"
    }
   ],
   "source": [
    "# Create Plot\n",
    "plt.scatter(x_values,y_values, color=\"green\")\n",
    "plt.plot(x_values,regress_values,\"r-\")\n",
    "\n",
    "# Label plot and annotate the line equation\n",
    "plt.xlabel('Latitude')\n",
    "plt.ylabel('Wind Speed')\n",
    "plt.annotate(line_eq,(20,15),fontsize=15,color=\"red\")\n",
    "\n",
    "# Print r value\n",
    "print(f\"The r-value is: {rvalue**2}\")\n",
    "\n",
    "# Show plot\n",
    "plt.show()"
   ]
  },
  {
   "cell_type": "code",
   "execution_count": null,
   "metadata": {},
   "outputs": [],
   "source": []
  }
 ],
 "metadata": {
  "anaconda-cloud": {},
  "kernel_info": {
   "name": "python3"
  },
  "kernelspec": {
   "display_name": "PythonData",
   "language": "python",
   "name": "pythondata"
  },
  "language_info": {
   "codemirror_mode": {
    "name": "ipython",
    "version": 3
   },
   "file_extension": ".py",
   "mimetype": "text/x-python",
   "name": "python",
   "nbconvert_exporter": "python",
   "pygments_lexer": "ipython3",
   "version": "3.7.7"
  },
  "latex_envs": {
   "LaTeX_envs_menu_present": true,
   "autoclose": false,
   "autocomplete": true,
   "bibliofile": "biblio.bib",
   "cite_by": "apalike",
   "current_citInitial": 1,
   "eqLabelWithNumbers": true,
   "eqNumInitial": 1,
   "hotkeys": {
    "equation": "Ctrl-E",
    "itemize": "Ctrl-I"
   },
   "labels_anchors": false,
   "latex_user_defs": false,
   "report_style_numbering": false,
   "user_envs_cfg": false
  },
  "nteract": {
   "version": "0.12.3"
  }
 },
 "nbformat": 4,
 "nbformat_minor": 2
}
